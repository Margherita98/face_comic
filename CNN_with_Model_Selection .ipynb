{
 "cells": [
  {
   "cell_type": "markdown",
   "id": "26eb4aa9",
   "metadata": {},
   "source": [
    "# CNN with Model Selection\n"
   ]
  },
  {
   "cell_type": "code",
   "execution_count": 1,
   "id": "8999ef24",
   "metadata": {},
   "outputs": [],
   "source": [
    "#!pip install pytest-warnings"
   ]
  },
  {
   "cell_type": "code",
   "execution_count": 2,
   "id": "9e663f85",
   "metadata": {},
   "outputs": [],
   "source": [
    "import warnings \n",
    "warnings.filterwarnings(\"ignore\")\n",
    "import numpy as np #array operations\n",
    "from tensorflow import keras\n",
    "from tensorflow.keras import layers\n",
    "import matplotlib.pyplot as plt #to show image\n",
    "import os #to iterate through directories and join paths\n",
    "import cv2 #image operations"
   ]
  },
  {
   "cell_type": "code",
   "execution_count": 3,
   "id": "bdcff68d",
   "metadata": {},
   "outputs": [],
   "source": [
    "#data directory\n",
    "directory = \"/Users/margheritamaroni/Desktop/DATA SCIENCE AND ECONOMICS/ALGORITHMS FOR MASSIVE DATA, CLOUD AND DISTRIBUTED COMPUTING/face_comic/face2comics_v2.0.0_by_Sxela/face2comics_v2.0.0_by_Sxela\"\n",
    "#the two categories we have to deal with \n",
    "subfolders = [\"comics\", \"faces\"]"
   ]
  },
  {
   "cell_type": "code",
   "execution_count": 4,
   "id": "1426dd01",
   "metadata": {},
   "outputs": [],
   "source": [
    "#which is the directory of the subsubfolder faces\n",
    "faces = os.path.join(directory, subfolders[1])"
   ]
  },
  {
   "cell_type": "code",
   "execution_count": 5,
   "id": "c8d9f2f1",
   "metadata": {},
   "outputs": [],
   "source": [
    "#directory of the subsubfolder comics\n",
    "comics = os.path.join(directory, subfolders[0])"
   ]
  },
  {
   "cell_type": "code",
   "execution_count": 6,
   "id": "432de515",
   "metadata": {},
   "outputs": [],
   "source": [
    "images = []"
   ]
  },
  {
   "cell_type": "code",
   "execution_count": 7,
   "id": "8b5e50d4",
   "metadata": {},
   "outputs": [],
   "source": [
    "#the for cycle just created above is insterted into a function that create the dataset \n",
    "def dataset():\n",
    "    for subsubfolders in subfolders: \n",
    "        path = os.path.join(directory, subsubfolders)\n",
    "        label_class = subfolders.index(subsubfolders)\n",
    "        for pic in os.listdir(path)[:1000]:\n",
    "            array_pic = cv2.imread(os.path.join(path, pic),0)\n",
    "            array_pic = cv2.resize(array_pic,(100, 100),0) #make the image size 100*100\n",
    "            images.append([array_pic,label_class])\n",
    "    "
   ]
  },
  {
   "cell_type": "code",
   "execution_count": 8,
   "id": "3e77b0d8",
   "metadata": {},
   "outputs": [],
   "source": [
    "dataset()"
   ]
  },
  {
   "cell_type": "code",
   "execution_count": 9,
   "id": "dcb32448",
   "metadata": {},
   "outputs": [],
   "source": [
    "# total number of images =  5,000\n",
    "#The first 2500 images of the list are comics, while the following 25500 are faces\n",
    "# I need to do a reshuffle because I need to divide my dataset in train and test\n",
    "import random\n",
    "shuffled_images = random.sample(images, 1000) "
   ]
  },
  {
   "cell_type": "code",
   "execution_count": 10,
   "id": "bcf4b990",
   "metadata": {},
   "outputs": [],
   "source": [
    "#From the 5'000 lists obtained, we saw that each list contains two values: matrix with pixels and label of the image\n",
    "#at this stage we want to separate those two lists: \n",
    "# - create one list named P with all the matrices containing pixels \n",
    "# - create a second list named L with all labels (0 or 1)\n",
    "#thereafter, P and L will be used for train and test sets\n",
    "P = [] #features set (pixels)\n",
    "L = [] #label set"
   ]
  },
  {
   "cell_type": "code",
   "execution_count": 11,
   "id": "296ce8d4",
   "metadata": {},
   "outputs": [],
   "source": [
    "for example in shuffled_images:\n",
    "    P.append(example[0])\n",
    "    L.append(example[1])"
   ]
  },
  {
   "cell_type": "code",
   "execution_count": 12,
   "id": "063de589",
   "metadata": {},
   "outputs": [
    {
     "data": {
      "text/plain": [
       "(100, 100)"
      ]
     },
     "execution_count": 12,
     "metadata": {},
     "output_type": "execute_result"
    }
   ],
   "source": [
    "#check P are only matrices of pixels for the first image\n",
    "P[:1] #matrix with pixels\n",
    "P[1].shape"
   ]
  },
  {
   "cell_type": "code",
   "execution_count": 13,
   "id": "7cf667e8",
   "metadata": {},
   "outputs": [
    {
     "data": {
      "text/plain": [
       "1000"
      ]
     },
     "execution_count": 13,
     "metadata": {},
     "output_type": "execute_result"
    }
   ],
   "source": [
    "#check L are only labels for the first ten images\n",
    "L[:10] #labels\n",
    "len(L) "
   ]
  },
  {
   "cell_type": "markdown",
   "id": "160801d8",
   "metadata": {},
   "source": [
    "# NOW WE ARE READY FOR TRAIN AND TEST SPLIT AND FOR DEFINING THE MODEL"
   ]
  },
  {
   "cell_type": "code",
   "execution_count": 14,
   "id": "1ea54611",
   "metadata": {},
   "outputs": [],
   "source": [
    "from sklearn.model_selection import train_test_split"
   ]
  },
  {
   "cell_type": "code",
   "execution_count": 15,
   "id": "f34dc6aa",
   "metadata": {},
   "outputs": [],
   "source": [
    "#transform lists P and L in array \n",
    "P = np.array(P)\n",
    "L = np.array(L)"
   ]
  },
  {
   "cell_type": "code",
   "execution_count": 16,
   "id": "f96ce00c",
   "metadata": {},
   "outputs": [],
   "source": [
    "input_shape = (100,100,1) \n",
    "x_train, x_test, y_train, y_test = train_test_split(P, L, train_size = 0.7, random_state = 3456)"
   ]
  },
  {
   "cell_type": "code",
   "execution_count": 17,
   "id": "d64f6bf0",
   "metadata": {},
   "outputs": [
    {
     "data": {
      "text/plain": [
       "(700, 100, 100)"
      ]
     },
     "execution_count": 17,
     "metadata": {},
     "output_type": "execute_result"
    }
   ],
   "source": [
    "x_train.shape"
   ]
  },
  {
   "cell_type": "code",
   "execution_count": 18,
   "id": "c215228a",
   "metadata": {},
   "outputs": [],
   "source": [
    "#One Hot encoding \n",
    "from sklearn.preprocessing import OneHotEncoder"
   ]
  },
  {
   "cell_type": "code",
   "execution_count": 19,
   "id": "459e2916",
   "metadata": {},
   "outputs": [],
   "source": [
    "encoder = OneHotEncoder(sparse=False)"
   ]
  },
  {
   "cell_type": "code",
   "execution_count": 20,
   "id": "ff1470df",
   "metadata": {},
   "outputs": [],
   "source": [
    "y_train = encoder.fit_transform(y_train.reshape(-1,1))\n",
    "y_test=encoder.fit_transform(y_test.reshape(-1,1))"
   ]
  },
  {
   "cell_type": "code",
   "execution_count": 21,
   "id": "33853a1b",
   "metadata": {},
   "outputs": [],
   "source": [
    "x_train = np.expand_dims(x_train, -1)\n",
    "x_test = np.expand_dims(x_test, -1)"
   ]
  },
  {
   "cell_type": "code",
   "execution_count": 22,
   "id": "fd85acc1",
   "metadata": {},
   "outputs": [
    {
     "data": {
      "text/plain": [
       "(700, 100, 100, 1)"
      ]
     },
     "execution_count": 22,
     "metadata": {},
     "output_type": "execute_result"
    }
   ],
   "source": [
    "x_train.shape"
   ]
  },
  {
   "cell_type": "markdown",
   "id": "e84da7a4",
   "metadata": {},
   "source": [
    "# Model Selection\n"
   ]
  },
  {
   "cell_type": "markdown",
   "id": "0a09f421",
   "metadata": {},
   "source": [
    "I run the grid search with cross-validation. I am going to input different training and test split:\n",
    "\n",
    "x_train, x_test, y_train, y_test. "
   ]
  },
  {
   "cell_type": "markdown",
   "id": "7f3258ad",
   "metadata": {},
   "source": [
    "I will also input my *model* from the library sklearn using the function *gridsearchcv* from the class *model selection*. "
   ]
  },
  {
   "cell_type": "code",
   "execution_count": 23,
   "id": "67ff47f2",
   "metadata": {},
   "outputs": [],
   "source": [
    "#!pip install module-wrapper"
   ]
  },
  {
   "cell_type": "code",
   "execution_count": 24,
   "id": "0c401b45",
   "metadata": {},
   "outputs": [],
   "source": [
    "from sklearn.model_selection import GridSearchCV\n",
    "from keras.models import Sequential \n",
    "from keras.layers import Dense, Conv2D, Dropout, Flatten, MaxPooling2D\n",
    "from keras.wrappers.scikit_learn import KerasClassifier\n"
   ]
  },
  {
   "cell_type": "code",
   "execution_count": 25,
   "id": "972b3379",
   "metadata": {},
   "outputs": [],
   "source": [
    "def algorithm_pipeline(x_train, x_test, y_train, y_test, \n",
    "                       model, param_grid, cv=3, scoring_fit='accuracy',\n",
    "                       ):\n",
    "    gs = GridSearchCV(\n",
    "        estimator=model,\n",
    "        param_grid=param_grid, \n",
    "        cv=cv, \n",
    "        n_jobs=-1, \n",
    "        scoring=scoring_fit\n",
    "    )\n",
    "    fitted_model = gs.fit(x_train, y_train)\n",
    "    \n",
    "    return fitted_model"
   ]
  },
  {
   "cell_type": "code",
   "execution_count": 26,
   "id": "27004cb1",
   "metadata": {},
   "outputs": [],
   "source": [
    "def build_cnn(activation = 'relu',\n",
    "              dropout_rate = 0.2,\n",
    "              optimizer = 'Adam'):\n",
    "    model = Sequential()\n",
    "    \n",
    "    model.add(Conv2D(32, kernel_size=(3, 3),\n",
    "                     activation=activation,\n",
    "                    input_shape = (100,100,1)))\n",
    "    model.add(Conv2D(64, (3, 3), activation=activation))\n",
    "    model.add(MaxPooling2D(pool_size=(2, 2)))\n",
    "    model.add(Dropout(0.2))\n",
    "    model.add(Flatten())\n",
    "    model.add(Dense(2, activation='softmax'))\n",
    "    \n",
    "    model.compile(\n",
    "        loss='categorical_crossentropy', \n",
    "        optimizer=\"adam\", \n",
    "        metrics=['accuracy']\n",
    "    )\n",
    "    \n",
    "    return model"
   ]
  },
  {
   "cell_type": "code",
   "execution_count": 27,
   "id": "8ca262fc",
   "metadata": {},
   "outputs": [
    {
     "name": "stderr",
     "output_type": "stream",
     "text": [
      "2022-03-21 09:33:03.036636: I tensorflow/core/platform/cpu_feature_guard.cc:151] This TensorFlow binary is optimized with oneAPI Deep Neural Network Library (oneDNN) to use the following CPU instructions in performance-critical operations:  AVX2 FMA\n",
      "To enable them in other operations, rebuild TensorFlow with the appropriate compiler flags.\n",
      "2022-03-21 09:33:03.036621: I tensorflow/core/platform/cpu_feature_guard.cc:151] This TensorFlow binary is optimized with oneAPI Deep Neural Network Library (oneDNN) to use the following CPU instructions in performance-critical operations:  AVX2 FMA\n",
      "To enable them in other operations, rebuild TensorFlow with the appropriate compiler flags.\n",
      "2022-03-21 09:33:03.036593: I tensorflow/core/platform/cpu_feature_guard.cc:151] This TensorFlow binary is optimized with oneAPI Deep Neural Network Library (oneDNN) to use the following CPU instructions in performance-critical operations:  AVX2 FMA\n",
      "To enable them in other operations, rebuild TensorFlow with the appropriate compiler flags.\n",
      "2022-03-21 09:33:03.036593: I tensorflow/core/platform/cpu_feature_guard.cc:151] This TensorFlow binary is optimized with oneAPI Deep Neural Network Library (oneDNN) to use the following CPU instructions in performance-critical operations:  AVX2 FMA\n",
      "To enable them in other operations, rebuild TensorFlow with the appropriate compiler flags.\n",
      "/Users/margheritamaroni/opt/anaconda3/lib/python3.9/site-packages/sklearn/model_selection/_validation.py:696: UserWarning: Scoring failed. The score on this train-test partition for these parameters will be set to nan. Details: \n",
      "Traceback (most recent call last):\n",
      "  File \"/Users/margheritamaroni/opt/anaconda3/lib/python3.9/site-packages/sklearn/model_selection/_validation.py\", line 687, in _score\n",
      "    scores = scorer(estimator, X_test, y_test)\n",
      "  File \"/Users/margheritamaroni/opt/anaconda3/lib/python3.9/site-packages/sklearn/metrics/_scorer.py\", line 199, in __call__\n",
      "    return self._score(partial(_cached_call, None), estimator, X, y_true,\n",
      "  File \"/Users/margheritamaroni/opt/anaconda3/lib/python3.9/site-packages/sklearn/metrics/_scorer.py\", line 242, in _score\n",
      "    return self._sign * self._score_func(y_true, y_pred,\n",
      "  File \"/Users/margheritamaroni/opt/anaconda3/lib/python3.9/site-packages/sklearn/utils/validation.py\", line 63, in inner_f\n",
      "    return f(*args, **kwargs)\n",
      "  File \"/Users/margheritamaroni/opt/anaconda3/lib/python3.9/site-packages/sklearn/metrics/_classification.py\", line 202, in accuracy_score\n",
      "    y_type, y_true, y_pred = _check_targets(y_true, y_pred)\n",
      "  File \"/Users/margheritamaroni/opt/anaconda3/lib/python3.9/site-packages/sklearn/metrics/_classification.py\", line 92, in _check_targets\n",
      "    raise ValueError(\"Classification metrics can't handle a mix of {0} \"\n",
      "ValueError: Classification metrics can't handle a mix of multilabel-indicator and binary targets\n",
      "\n",
      "  warnings.warn(\n",
      "/Users/margheritamaroni/opt/anaconda3/lib/python3.9/site-packages/sklearn/model_selection/_validation.py:696: UserWarning: Scoring failed. The score on this train-test partition for these parameters will be set to nan. Details: \n",
      "Traceback (most recent call last):\n",
      "  File \"/Users/margheritamaroni/opt/anaconda3/lib/python3.9/site-packages/sklearn/model_selection/_validation.py\", line 687, in _score\n",
      "    scores = scorer(estimator, X_test, y_test)\n",
      "  File \"/Users/margheritamaroni/opt/anaconda3/lib/python3.9/site-packages/sklearn/metrics/_scorer.py\", line 199, in __call__\n",
      "    return self._score(partial(_cached_call, None), estimator, X, y_true,\n",
      "  File \"/Users/margheritamaroni/opt/anaconda3/lib/python3.9/site-packages/sklearn/metrics/_scorer.py\", line 242, in _score\n",
      "    return self._sign * self._score_func(y_true, y_pred,\n",
      "  File \"/Users/margheritamaroni/opt/anaconda3/lib/python3.9/site-packages/sklearn/utils/validation.py\", line 63, in inner_f\n",
      "    return f(*args, **kwargs)\n",
      "  File \"/Users/margheritamaroni/opt/anaconda3/lib/python3.9/site-packages/sklearn/metrics/_classification.py\", line 202, in accuracy_score\n",
      "    y_type, y_true, y_pred = _check_targets(y_true, y_pred)\n",
      "  File \"/Users/margheritamaroni/opt/anaconda3/lib/python3.9/site-packages/sklearn/metrics/_classification.py\", line 92, in _check_targets\n",
      "    raise ValueError(\"Classification metrics can't handle a mix of {0} \"\n",
      "ValueError: Classification metrics can't handle a mix of multilabel-indicator and binary targets\n",
      "\n",
      "  warnings.warn(\n",
      "/Users/margheritamaroni/opt/anaconda3/lib/python3.9/site-packages/sklearn/model_selection/_validation.py:696: UserWarning: Scoring failed. The score on this train-test partition for these parameters will be set to nan. Details: \n",
      "Traceback (most recent call last):\n",
      "  File \"/Users/margheritamaroni/opt/anaconda3/lib/python3.9/site-packages/sklearn/model_selection/_validation.py\", line 687, in _score\n",
      "    scores = scorer(estimator, X_test, y_test)\n",
      "  File \"/Users/margheritamaroni/opt/anaconda3/lib/python3.9/site-packages/sklearn/metrics/_scorer.py\", line 199, in __call__\n",
      "    return self._score(partial(_cached_call, None), estimator, X, y_true,\n",
      "  File \"/Users/margheritamaroni/opt/anaconda3/lib/python3.9/site-packages/sklearn/metrics/_scorer.py\", line 242, in _score\n",
      "    return self._sign * self._score_func(y_true, y_pred,\n",
      "  File \"/Users/margheritamaroni/opt/anaconda3/lib/python3.9/site-packages/sklearn/utils/validation.py\", line 63, in inner_f\n",
      "    return f(*args, **kwargs)\n",
      "  File \"/Users/margheritamaroni/opt/anaconda3/lib/python3.9/site-packages/sklearn/metrics/_classification.py\", line 202, in accuracy_score\n",
      "    y_type, y_true, y_pred = _check_targets(y_true, y_pred)\n",
      "  File \"/Users/margheritamaroni/opt/anaconda3/lib/python3.9/site-packages/sklearn/metrics/_classification.py\", line 92, in _check_targets\n",
      "    raise ValueError(\"Classification metrics can't handle a mix of {0} \"\n",
      "ValueError: Classification metrics can't handle a mix of multilabel-indicator and binary targets\n",
      "\n",
      "  warnings.warn(\n",
      "/Users/margheritamaroni/opt/anaconda3/lib/python3.9/site-packages/sklearn/model_selection/_validation.py:696: UserWarning: Scoring failed. The score on this train-test partition for these parameters will be set to nan. Details: \n",
      "Traceback (most recent call last):\n",
      "  File \"/Users/margheritamaroni/opt/anaconda3/lib/python3.9/site-packages/sklearn/model_selection/_validation.py\", line 687, in _score\n",
      "    scores = scorer(estimator, X_test, y_test)\n",
      "  File \"/Users/margheritamaroni/opt/anaconda3/lib/python3.9/site-packages/sklearn/metrics/_scorer.py\", line 199, in __call__\n",
      "    return self._score(partial(_cached_call, None), estimator, X, y_true,\n",
      "  File \"/Users/margheritamaroni/opt/anaconda3/lib/python3.9/site-packages/sklearn/metrics/_scorer.py\", line 242, in _score\n",
      "    return self._sign * self._score_func(y_true, y_pred,\n",
      "  File \"/Users/margheritamaroni/opt/anaconda3/lib/python3.9/site-packages/sklearn/utils/validation.py\", line 63, in inner_f\n",
      "    return f(*args, **kwargs)\n",
      "  File \"/Users/margheritamaroni/opt/anaconda3/lib/python3.9/site-packages/sklearn/metrics/_classification.py\", line 202, in accuracy_score\n",
      "    y_type, y_true, y_pred = _check_targets(y_true, y_pred)\n",
      "  File \"/Users/margheritamaroni/opt/anaconda3/lib/python3.9/site-packages/sklearn/metrics/_classification.py\", line 92, in _check_targets\n",
      "    raise ValueError(\"Classification metrics can't handle a mix of {0} \"\n",
      "ValueError: Classification metrics can't handle a mix of multilabel-indicator and binary targets\n",
      "\n",
      "  warnings.warn(\n",
      "/Users/margheritamaroni/opt/anaconda3/lib/python3.9/site-packages/sklearn/model_selection/_validation.py:696: UserWarning: Scoring failed. The score on this train-test partition for these parameters will be set to nan. Details: \n",
      "Traceback (most recent call last):\n",
      "  File \"/Users/margheritamaroni/opt/anaconda3/lib/python3.9/site-packages/sklearn/model_selection/_validation.py\", line 687, in _score\n",
      "    scores = scorer(estimator, X_test, y_test)\n",
      "  File \"/Users/margheritamaroni/opt/anaconda3/lib/python3.9/site-packages/sklearn/metrics/_scorer.py\", line 199, in __call__\n",
      "    return self._score(partial(_cached_call, None), estimator, X, y_true,\n",
      "  File \"/Users/margheritamaroni/opt/anaconda3/lib/python3.9/site-packages/sklearn/metrics/_scorer.py\", line 242, in _score\n",
      "    return self._sign * self._score_func(y_true, y_pred,\n",
      "  File \"/Users/margheritamaroni/opt/anaconda3/lib/python3.9/site-packages/sklearn/utils/validation.py\", line 63, in inner_f\n",
      "    return f(*args, **kwargs)\n",
      "  File \"/Users/margheritamaroni/opt/anaconda3/lib/python3.9/site-packages/sklearn/metrics/_classification.py\", line 202, in accuracy_score\n",
      "    y_type, y_true, y_pred = _check_targets(y_true, y_pred)\n",
      "  File \"/Users/margheritamaroni/opt/anaconda3/lib/python3.9/site-packages/sklearn/metrics/_classification.py\", line 92, in _check_targets\n",
      "    raise ValueError(\"Classification metrics can't handle a mix of {0} \"\n",
      "ValueError: Classification metrics can't handle a mix of multilabel-indicator and binary targets\n",
      "\n",
      "  warnings.warn(\n",
      "/Users/margheritamaroni/opt/anaconda3/lib/python3.9/site-packages/sklearn/model_selection/_validation.py:696: UserWarning: Scoring failed. The score on this train-test partition for these parameters will be set to nan. Details: \n",
      "Traceback (most recent call last):\n",
      "  File \"/Users/margheritamaroni/opt/anaconda3/lib/python3.9/site-packages/sklearn/model_selection/_validation.py\", line 687, in _score\n",
      "    scores = scorer(estimator, X_test, y_test)\n",
      "  File \"/Users/margheritamaroni/opt/anaconda3/lib/python3.9/site-packages/sklearn/metrics/_scorer.py\", line 199, in __call__\n",
      "    return self._score(partial(_cached_call, None), estimator, X, y_true,\n",
      "  File \"/Users/margheritamaroni/opt/anaconda3/lib/python3.9/site-packages/sklearn/metrics/_scorer.py\", line 242, in _score\n",
      "    return self._sign * self._score_func(y_true, y_pred,\n",
      "  File \"/Users/margheritamaroni/opt/anaconda3/lib/python3.9/site-packages/sklearn/utils/validation.py\", line 63, in inner_f\n",
      "    return f(*args, **kwargs)\n",
      "  File \"/Users/margheritamaroni/opt/anaconda3/lib/python3.9/site-packages/sklearn/metrics/_classification.py\", line 202, in accuracy_score\n",
      "    y_type, y_true, y_pred = _check_targets(y_true, y_pred)\n",
      "  File \"/Users/margheritamaroni/opt/anaconda3/lib/python3.9/site-packages/sklearn/metrics/_classification.py\", line 92, in _check_targets\n",
      "    raise ValueError(\"Classification metrics can't handle a mix of {0} \"\n",
      "ValueError: Classification metrics can't handle a mix of multilabel-indicator and binary targets\n",
      "\n",
      "  warnings.warn(\n"
     ]
    },
    {
     "name": "stderr",
     "output_type": "stream",
     "text": [
      "/Users/margheritamaroni/opt/anaconda3/lib/python3.9/site-packages/sklearn/model_selection/_validation.py:696: UserWarning: Scoring failed. The score on this train-test partition for these parameters will be set to nan. Details: \n",
      "Traceback (most recent call last):\n",
      "  File \"/Users/margheritamaroni/opt/anaconda3/lib/python3.9/site-packages/sklearn/model_selection/_validation.py\", line 687, in _score\n",
      "    scores = scorer(estimator, X_test, y_test)\n",
      "  File \"/Users/margheritamaroni/opt/anaconda3/lib/python3.9/site-packages/sklearn/metrics/_scorer.py\", line 199, in __call__\n",
      "    return self._score(partial(_cached_call, None), estimator, X, y_true,\n",
      "  File \"/Users/margheritamaroni/opt/anaconda3/lib/python3.9/site-packages/sklearn/metrics/_scorer.py\", line 242, in _score\n",
      "    return self._sign * self._score_func(y_true, y_pred,\n",
      "  File \"/Users/margheritamaroni/opt/anaconda3/lib/python3.9/site-packages/sklearn/utils/validation.py\", line 63, in inner_f\n",
      "    return f(*args, **kwargs)\n",
      "  File \"/Users/margheritamaroni/opt/anaconda3/lib/python3.9/site-packages/sklearn/metrics/_classification.py\", line 202, in accuracy_score\n",
      "    y_type, y_true, y_pred = _check_targets(y_true, y_pred)\n",
      "  File \"/Users/margheritamaroni/opt/anaconda3/lib/python3.9/site-packages/sklearn/metrics/_classification.py\", line 92, in _check_targets\n",
      "    raise ValueError(\"Classification metrics can't handle a mix of {0} \"\n",
      "ValueError: Classification metrics can't handle a mix of multilabel-indicator and binary targets\n",
      "\n",
      "  warnings.warn(\n",
      "/Users/margheritamaroni/opt/anaconda3/lib/python3.9/site-packages/sklearn/model_selection/_validation.py:696: UserWarning: Scoring failed. The score on this train-test partition for these parameters will be set to nan. Details: \n",
      "Traceback (most recent call last):\n",
      "  File \"/Users/margheritamaroni/opt/anaconda3/lib/python3.9/site-packages/sklearn/model_selection/_validation.py\", line 687, in _score\n",
      "    scores = scorer(estimator, X_test, y_test)\n",
      "  File \"/Users/margheritamaroni/opt/anaconda3/lib/python3.9/site-packages/sklearn/metrics/_scorer.py\", line 199, in __call__\n",
      "    return self._score(partial(_cached_call, None), estimator, X, y_true,\n",
      "  File \"/Users/margheritamaroni/opt/anaconda3/lib/python3.9/site-packages/sklearn/metrics/_scorer.py\", line 242, in _score\n",
      "    return self._sign * self._score_func(y_true, y_pred,\n",
      "  File \"/Users/margheritamaroni/opt/anaconda3/lib/python3.9/site-packages/sklearn/utils/validation.py\", line 63, in inner_f\n",
      "    return f(*args, **kwargs)\n",
      "  File \"/Users/margheritamaroni/opt/anaconda3/lib/python3.9/site-packages/sklearn/metrics/_classification.py\", line 202, in accuracy_score\n",
      "    y_type, y_true, y_pred = _check_targets(y_true, y_pred)\n",
      "  File \"/Users/margheritamaroni/opt/anaconda3/lib/python3.9/site-packages/sklearn/metrics/_classification.py\", line 92, in _check_targets\n",
      "    raise ValueError(\"Classification metrics can't handle a mix of {0} \"\n",
      "ValueError: Classification metrics can't handle a mix of multilabel-indicator and binary targets\n",
      "\n",
      "  warnings.warn(\n",
      "/Users/margheritamaroni/opt/anaconda3/lib/python3.9/site-packages/sklearn/model_selection/_validation.py:696: UserWarning: Scoring failed. The score on this train-test partition for these parameters will be set to nan. Details: \n",
      "Traceback (most recent call last):\n",
      "  File \"/Users/margheritamaroni/opt/anaconda3/lib/python3.9/site-packages/sklearn/model_selection/_validation.py\", line 687, in _score\n",
      "    scores = scorer(estimator, X_test, y_test)\n",
      "  File \"/Users/margheritamaroni/opt/anaconda3/lib/python3.9/site-packages/sklearn/metrics/_scorer.py\", line 199, in __call__\n",
      "    return self._score(partial(_cached_call, None), estimator, X, y_true,\n",
      "  File \"/Users/margheritamaroni/opt/anaconda3/lib/python3.9/site-packages/sklearn/metrics/_scorer.py\", line 242, in _score\n",
      "    return self._sign * self._score_func(y_true, y_pred,\n",
      "  File \"/Users/margheritamaroni/opt/anaconda3/lib/python3.9/site-packages/sklearn/utils/validation.py\", line 63, in inner_f\n",
      "    return f(*args, **kwargs)\n",
      "  File \"/Users/margheritamaroni/opt/anaconda3/lib/python3.9/site-packages/sklearn/metrics/_classification.py\", line 202, in accuracy_score\n",
      "    y_type, y_true, y_pred = _check_targets(y_true, y_pred)\n",
      "  File \"/Users/margheritamaroni/opt/anaconda3/lib/python3.9/site-packages/sklearn/metrics/_classification.py\", line 92, in _check_targets\n",
      "    raise ValueError(\"Classification metrics can't handle a mix of {0} \"\n",
      "ValueError: Classification metrics can't handle a mix of multilabel-indicator and binary targets\n",
      "\n",
      "  warnings.warn(\n",
      "/Users/margheritamaroni/opt/anaconda3/lib/python3.9/site-packages/sklearn/model_selection/_validation.py:696: UserWarning: Scoring failed. The score on this train-test partition for these parameters will be set to nan. Details: \n",
      "Traceback (most recent call last):\n",
      "  File \"/Users/margheritamaroni/opt/anaconda3/lib/python3.9/site-packages/sklearn/model_selection/_validation.py\", line 687, in _score\n",
      "    scores = scorer(estimator, X_test, y_test)\n",
      "  File \"/Users/margheritamaroni/opt/anaconda3/lib/python3.9/site-packages/sklearn/metrics/_scorer.py\", line 199, in __call__\n",
      "    return self._score(partial(_cached_call, None), estimator, X, y_true,\n",
      "  File \"/Users/margheritamaroni/opt/anaconda3/lib/python3.9/site-packages/sklearn/metrics/_scorer.py\", line 242, in _score\n",
      "    return self._sign * self._score_func(y_true, y_pred,\n",
      "  File \"/Users/margheritamaroni/opt/anaconda3/lib/python3.9/site-packages/sklearn/utils/validation.py\", line 63, in inner_f\n",
      "    return f(*args, **kwargs)\n",
      "  File \"/Users/margheritamaroni/opt/anaconda3/lib/python3.9/site-packages/sklearn/metrics/_classification.py\", line 202, in accuracy_score\n",
      "    y_type, y_true, y_pred = _check_targets(y_true, y_pred)\n",
      "  File \"/Users/margheritamaroni/opt/anaconda3/lib/python3.9/site-packages/sklearn/metrics/_classification.py\", line 92, in _check_targets\n",
      "    raise ValueError(\"Classification metrics can't handle a mix of {0} \"\n",
      "ValueError: Classification metrics can't handle a mix of multilabel-indicator and binary targets\n",
      "\n",
      "  warnings.warn(\n",
      "/Users/margheritamaroni/opt/anaconda3/lib/python3.9/site-packages/sklearn/model_selection/_validation.py:696: UserWarning: Scoring failed. The score on this train-test partition for these parameters will be set to nan. Details: \n",
      "Traceback (most recent call last):\n",
      "  File \"/Users/margheritamaroni/opt/anaconda3/lib/python3.9/site-packages/sklearn/model_selection/_validation.py\", line 687, in _score\n",
      "    scores = scorer(estimator, X_test, y_test)\n",
      "  File \"/Users/margheritamaroni/opt/anaconda3/lib/python3.9/site-packages/sklearn/metrics/_scorer.py\", line 199, in __call__\n",
      "    return self._score(partial(_cached_call, None), estimator, X, y_true,\n",
      "  File \"/Users/margheritamaroni/opt/anaconda3/lib/python3.9/site-packages/sklearn/metrics/_scorer.py\", line 242, in _score\n",
      "    return self._sign * self._score_func(y_true, y_pred,\n",
      "  File \"/Users/margheritamaroni/opt/anaconda3/lib/python3.9/site-packages/sklearn/utils/validation.py\", line 63, in inner_f\n",
      "    return f(*args, **kwargs)\n",
      "  File \"/Users/margheritamaroni/opt/anaconda3/lib/python3.9/site-packages/sklearn/metrics/_classification.py\", line 202, in accuracy_score\n",
      "    y_type, y_true, y_pred = _check_targets(y_true, y_pred)\n",
      "  File \"/Users/margheritamaroni/opt/anaconda3/lib/python3.9/site-packages/sklearn/metrics/_classification.py\", line 92, in _check_targets\n",
      "    raise ValueError(\"Classification metrics can't handle a mix of {0} \"\n",
      "ValueError: Classification metrics can't handle a mix of multilabel-indicator and binary targets\n",
      "\n",
      "  warnings.warn(\n",
      "/Users/margheritamaroni/opt/anaconda3/lib/python3.9/site-packages/sklearn/model_selection/_validation.py:696: UserWarning: Scoring failed. The score on this train-test partition for these parameters will be set to nan. Details: \n",
      "Traceback (most recent call last):\n",
      "  File \"/Users/margheritamaroni/opt/anaconda3/lib/python3.9/site-packages/sklearn/model_selection/_validation.py\", line 687, in _score\n",
      "    scores = scorer(estimator, X_test, y_test)\n",
      "  File \"/Users/margheritamaroni/opt/anaconda3/lib/python3.9/site-packages/sklearn/metrics/_scorer.py\", line 199, in __call__\n",
      "    return self._score(partial(_cached_call, None), estimator, X, y_true,\n",
      "  File \"/Users/margheritamaroni/opt/anaconda3/lib/python3.9/site-packages/sklearn/metrics/_scorer.py\", line 242, in _score\n",
      "    return self._sign * self._score_func(y_true, y_pred,\n",
      "  File \"/Users/margheritamaroni/opt/anaconda3/lib/python3.9/site-packages/sklearn/utils/validation.py\", line 63, in inner_f\n",
      "    return f(*args, **kwargs)\n",
      "  File \"/Users/margheritamaroni/opt/anaconda3/lib/python3.9/site-packages/sklearn/metrics/_classification.py\", line 202, in accuracy_score\n",
      "    y_type, y_true, y_pred = _check_targets(y_true, y_pred)\n",
      "  File \"/Users/margheritamaroni/opt/anaconda3/lib/python3.9/site-packages/sklearn/metrics/_classification.py\", line 92, in _check_targets\n",
      "    raise ValueError(\"Classification metrics can't handle a mix of {0} \"\n",
      "ValueError: Classification metrics can't handle a mix of multilabel-indicator and binary targets\n",
      "\n",
      "  warnings.warn(\n"
     ]
    },
    {
     "name": "stderr",
     "output_type": "stream",
     "text": [
      "/Users/margheritamaroni/opt/anaconda3/lib/python3.9/site-packages/sklearn/model_selection/_validation.py:696: UserWarning: Scoring failed. The score on this train-test partition for these parameters will be set to nan. Details: \n",
      "Traceback (most recent call last):\n",
      "  File \"/Users/margheritamaroni/opt/anaconda3/lib/python3.9/site-packages/sklearn/model_selection/_validation.py\", line 687, in _score\n",
      "    scores = scorer(estimator, X_test, y_test)\n",
      "  File \"/Users/margheritamaroni/opt/anaconda3/lib/python3.9/site-packages/sklearn/metrics/_scorer.py\", line 199, in __call__\n",
      "    return self._score(partial(_cached_call, None), estimator, X, y_true,\n",
      "  File \"/Users/margheritamaroni/opt/anaconda3/lib/python3.9/site-packages/sklearn/metrics/_scorer.py\", line 242, in _score\n",
      "    return self._sign * self._score_func(y_true, y_pred,\n",
      "  File \"/Users/margheritamaroni/opt/anaconda3/lib/python3.9/site-packages/sklearn/utils/validation.py\", line 63, in inner_f\n",
      "    return f(*args, **kwargs)\n",
      "  File \"/Users/margheritamaroni/opt/anaconda3/lib/python3.9/site-packages/sklearn/metrics/_classification.py\", line 202, in accuracy_score\n",
      "    y_type, y_true, y_pred = _check_targets(y_true, y_pred)\n",
      "  File \"/Users/margheritamaroni/opt/anaconda3/lib/python3.9/site-packages/sklearn/metrics/_classification.py\", line 92, in _check_targets\n",
      "    raise ValueError(\"Classification metrics can't handle a mix of {0} \"\n",
      "ValueError: Classification metrics can't handle a mix of multilabel-indicator and binary targets\n",
      "\n",
      "  warnings.warn(\n",
      "/Users/margheritamaroni/opt/anaconda3/lib/python3.9/site-packages/sklearn/model_selection/_validation.py:696: UserWarning: Scoring failed. The score on this train-test partition for these parameters will be set to nan. Details: \n",
      "Traceback (most recent call last):\n",
      "  File \"/Users/margheritamaroni/opt/anaconda3/lib/python3.9/site-packages/sklearn/model_selection/_validation.py\", line 687, in _score\n",
      "    scores = scorer(estimator, X_test, y_test)\n",
      "  File \"/Users/margheritamaroni/opt/anaconda3/lib/python3.9/site-packages/sklearn/metrics/_scorer.py\", line 199, in __call__\n",
      "    return self._score(partial(_cached_call, None), estimator, X, y_true,\n",
      "  File \"/Users/margheritamaroni/opt/anaconda3/lib/python3.9/site-packages/sklearn/metrics/_scorer.py\", line 242, in _score\n",
      "    return self._sign * self._score_func(y_true, y_pred,\n",
      "  File \"/Users/margheritamaroni/opt/anaconda3/lib/python3.9/site-packages/sklearn/utils/validation.py\", line 63, in inner_f\n",
      "    return f(*args, **kwargs)\n",
      "  File \"/Users/margheritamaroni/opt/anaconda3/lib/python3.9/site-packages/sklearn/metrics/_classification.py\", line 202, in accuracy_score\n",
      "    y_type, y_true, y_pred = _check_targets(y_true, y_pred)\n",
      "  File \"/Users/margheritamaroni/opt/anaconda3/lib/python3.9/site-packages/sklearn/metrics/_classification.py\", line 92, in _check_targets\n",
      "    raise ValueError(\"Classification metrics can't handle a mix of {0} \"\n",
      "ValueError: Classification metrics can't handle a mix of multilabel-indicator and binary targets\n",
      "\n",
      "  warnings.warn(\n",
      "/Users/margheritamaroni/opt/anaconda3/lib/python3.9/site-packages/sklearn/model_selection/_validation.py:696: UserWarning: Scoring failed. The score on this train-test partition for these parameters will be set to nan. Details: \n",
      "Traceback (most recent call last):\n",
      "  File \"/Users/margheritamaroni/opt/anaconda3/lib/python3.9/site-packages/sklearn/model_selection/_validation.py\", line 687, in _score\n",
      "    scores = scorer(estimator, X_test, y_test)\n",
      "  File \"/Users/margheritamaroni/opt/anaconda3/lib/python3.9/site-packages/sklearn/metrics/_scorer.py\", line 199, in __call__\n",
      "    return self._score(partial(_cached_call, None), estimator, X, y_true,\n",
      "  File \"/Users/margheritamaroni/opt/anaconda3/lib/python3.9/site-packages/sklearn/metrics/_scorer.py\", line 242, in _score\n",
      "    return self._sign * self._score_func(y_true, y_pred,\n",
      "  File \"/Users/margheritamaroni/opt/anaconda3/lib/python3.9/site-packages/sklearn/utils/validation.py\", line 63, in inner_f\n",
      "    return f(*args, **kwargs)\n",
      "  File \"/Users/margheritamaroni/opt/anaconda3/lib/python3.9/site-packages/sklearn/metrics/_classification.py\", line 202, in accuracy_score\n",
      "    y_type, y_true, y_pred = _check_targets(y_true, y_pred)\n",
      "  File \"/Users/margheritamaroni/opt/anaconda3/lib/python3.9/site-packages/sklearn/metrics/_classification.py\", line 92, in _check_targets\n",
      "    raise ValueError(\"Classification metrics can't handle a mix of {0} \"\n",
      "ValueError: Classification metrics can't handle a mix of multilabel-indicator and binary targets\n",
      "\n",
      "  warnings.warn(\n",
      "/Users/margheritamaroni/opt/anaconda3/lib/python3.9/site-packages/sklearn/model_selection/_validation.py:696: UserWarning: Scoring failed. The score on this train-test partition for these parameters will be set to nan. Details: \n",
      "Traceback (most recent call last):\n",
      "  File \"/Users/margheritamaroni/opt/anaconda3/lib/python3.9/site-packages/sklearn/model_selection/_validation.py\", line 687, in _score\n",
      "    scores = scorer(estimator, X_test, y_test)\n",
      "  File \"/Users/margheritamaroni/opt/anaconda3/lib/python3.9/site-packages/sklearn/metrics/_scorer.py\", line 199, in __call__\n",
      "    return self._score(partial(_cached_call, None), estimator, X, y_true,\n",
      "  File \"/Users/margheritamaroni/opt/anaconda3/lib/python3.9/site-packages/sklearn/metrics/_scorer.py\", line 242, in _score\n",
      "    return self._sign * self._score_func(y_true, y_pred,\n",
      "  File \"/Users/margheritamaroni/opt/anaconda3/lib/python3.9/site-packages/sklearn/utils/validation.py\", line 63, in inner_f\n",
      "    return f(*args, **kwargs)\n",
      "  File \"/Users/margheritamaroni/opt/anaconda3/lib/python3.9/site-packages/sklearn/metrics/_classification.py\", line 202, in accuracy_score\n",
      "    y_type, y_true, y_pred = _check_targets(y_true, y_pred)\n",
      "  File \"/Users/margheritamaroni/opt/anaconda3/lib/python3.9/site-packages/sklearn/metrics/_classification.py\", line 92, in _check_targets\n",
      "    raise ValueError(\"Classification metrics can't handle a mix of {0} \"\n",
      "ValueError: Classification metrics can't handle a mix of multilabel-indicator and binary targets\n",
      "\n",
      "  warnings.warn(\n",
      "/Users/margheritamaroni/opt/anaconda3/lib/python3.9/site-packages/sklearn/model_selection/_validation.py:696: UserWarning: Scoring failed. The score on this train-test partition for these parameters will be set to nan. Details: \n",
      "Traceback (most recent call last):\n",
      "  File \"/Users/margheritamaroni/opt/anaconda3/lib/python3.9/site-packages/sklearn/model_selection/_validation.py\", line 687, in _score\n",
      "    scores = scorer(estimator, X_test, y_test)\n",
      "  File \"/Users/margheritamaroni/opt/anaconda3/lib/python3.9/site-packages/sklearn/metrics/_scorer.py\", line 199, in __call__\n",
      "    return self._score(partial(_cached_call, None), estimator, X, y_true,\n",
      "  File \"/Users/margheritamaroni/opt/anaconda3/lib/python3.9/site-packages/sklearn/metrics/_scorer.py\", line 242, in _score\n",
      "    return self._sign * self._score_func(y_true, y_pred,\n",
      "  File \"/Users/margheritamaroni/opt/anaconda3/lib/python3.9/site-packages/sklearn/utils/validation.py\", line 63, in inner_f\n",
      "    return f(*args, **kwargs)\n",
      "  File \"/Users/margheritamaroni/opt/anaconda3/lib/python3.9/site-packages/sklearn/metrics/_classification.py\", line 202, in accuracy_score\n",
      "    y_type, y_true, y_pred = _check_targets(y_true, y_pred)\n",
      "  File \"/Users/margheritamaroni/opt/anaconda3/lib/python3.9/site-packages/sklearn/metrics/_classification.py\", line 92, in _check_targets\n",
      "    raise ValueError(\"Classification metrics can't handle a mix of {0} \"\n",
      "ValueError: Classification metrics can't handle a mix of multilabel-indicator and binary targets\n",
      "\n",
      "  warnings.warn(\n",
      "/Users/margheritamaroni/opt/anaconda3/lib/python3.9/site-packages/sklearn/model_selection/_validation.py:696: UserWarning: Scoring failed. The score on this train-test partition for these parameters will be set to nan. Details: \n",
      "Traceback (most recent call last):\n",
      "  File \"/Users/margheritamaroni/opt/anaconda3/lib/python3.9/site-packages/sklearn/model_selection/_validation.py\", line 687, in _score\n",
      "    scores = scorer(estimator, X_test, y_test)\n",
      "  File \"/Users/margheritamaroni/opt/anaconda3/lib/python3.9/site-packages/sklearn/metrics/_scorer.py\", line 199, in __call__\n",
      "    return self._score(partial(_cached_call, None), estimator, X, y_true,\n",
      "  File \"/Users/margheritamaroni/opt/anaconda3/lib/python3.9/site-packages/sklearn/metrics/_scorer.py\", line 242, in _score\n",
      "    return self._sign * self._score_func(y_true, y_pred,\n",
      "  File \"/Users/margheritamaroni/opt/anaconda3/lib/python3.9/site-packages/sklearn/utils/validation.py\", line 63, in inner_f\n",
      "    return f(*args, **kwargs)\n",
      "  File \"/Users/margheritamaroni/opt/anaconda3/lib/python3.9/site-packages/sklearn/metrics/_classification.py\", line 202, in accuracy_score\n",
      "    y_type, y_true, y_pred = _check_targets(y_true, y_pred)\n",
      "  File \"/Users/margheritamaroni/opt/anaconda3/lib/python3.9/site-packages/sklearn/metrics/_classification.py\", line 92, in _check_targets\n",
      "    raise ValueError(\"Classification metrics can't handle a mix of {0} \"\n",
      "ValueError: Classification metrics can't handle a mix of multilabel-indicator and binary targets\n",
      "\n",
      "  warnings.warn(\n",
      "/Users/margheritamaroni/opt/anaconda3/lib/python3.9/site-packages/sklearn/model_selection/_validation.py:696: UserWarning: Scoring failed. The score on this train-test partition for these parameters will be set to nan. Details: \n",
      "Traceback (most recent call last):\n",
      "  File \"/Users/margheritamaroni/opt/anaconda3/lib/python3.9/site-packages/sklearn/model_selection/_validation.py\", line 687, in _score\n",
      "    scores = scorer(estimator, X_test, y_test)\n",
      "  File \"/Users/margheritamaroni/opt/anaconda3/lib/python3.9/site-packages/sklearn/metrics/_scorer.py\", line 199, in __call__\n",
      "    return self._score(partial(_cached_call, None), estimator, X, y_true,\n",
      "  File \"/Users/margheritamaroni/opt/anaconda3/lib/python3.9/site-packages/sklearn/metrics/_scorer.py\", line 242, in _score\n",
      "    return self._sign * self._score_func(y_true, y_pred,\n",
      "  File \"/Users/margheritamaroni/opt/anaconda3/lib/python3.9/site-packages/sklearn/utils/validation.py\", line 63, in inner_f\n",
      "    return f(*args, **kwargs)\n",
      "  File \"/Users/margheritamaroni/opt/anaconda3/lib/python3.9/site-packages/sklearn/metrics/_classification.py\", line 202, in accuracy_score\n",
      "    y_type, y_true, y_pred = _check_targets(y_true, y_pred)\n",
      "  File \"/Users/margheritamaroni/opt/anaconda3/lib/python3.9/site-packages/sklearn/metrics/_classification.py\", line 92, in _check_targets\n",
      "    raise ValueError(\"Classification metrics can't handle a mix of {0} \"\n",
      "ValueError: Classification metrics can't handle a mix of multilabel-indicator and binary targets\n",
      "\n",
      "  warnings.warn(\n"
     ]
    },
    {
     "name": "stderr",
     "output_type": "stream",
     "text": [
      "/Users/margheritamaroni/opt/anaconda3/lib/python3.9/site-packages/sklearn/model_selection/_validation.py:696: UserWarning: Scoring failed. The score on this train-test partition for these parameters will be set to nan. Details: \n",
      "Traceback (most recent call last):\n",
      "  File \"/Users/margheritamaroni/opt/anaconda3/lib/python3.9/site-packages/sklearn/model_selection/_validation.py\", line 687, in _score\n",
      "    scores = scorer(estimator, X_test, y_test)\n",
      "  File \"/Users/margheritamaroni/opt/anaconda3/lib/python3.9/site-packages/sklearn/metrics/_scorer.py\", line 199, in __call__\n",
      "    return self._score(partial(_cached_call, None), estimator, X, y_true,\n",
      "  File \"/Users/margheritamaroni/opt/anaconda3/lib/python3.9/site-packages/sklearn/metrics/_scorer.py\", line 242, in _score\n",
      "    return self._sign * self._score_func(y_true, y_pred,\n",
      "  File \"/Users/margheritamaroni/opt/anaconda3/lib/python3.9/site-packages/sklearn/utils/validation.py\", line 63, in inner_f\n",
      "    return f(*args, **kwargs)\n",
      "  File \"/Users/margheritamaroni/opt/anaconda3/lib/python3.9/site-packages/sklearn/metrics/_classification.py\", line 202, in accuracy_score\n",
      "    y_type, y_true, y_pred = _check_targets(y_true, y_pred)\n",
      "  File \"/Users/margheritamaroni/opt/anaconda3/lib/python3.9/site-packages/sklearn/metrics/_classification.py\", line 92, in _check_targets\n",
      "    raise ValueError(\"Classification metrics can't handle a mix of {0} \"\n",
      "ValueError: Classification metrics can't handle a mix of multilabel-indicator and binary targets\n",
      "\n",
      "  warnings.warn(\n",
      "/Users/margheritamaroni/opt/anaconda3/lib/python3.9/site-packages/sklearn/model_selection/_validation.py:696: UserWarning: Scoring failed. The score on this train-test partition for these parameters will be set to nan. Details: \n",
      "Traceback (most recent call last):\n",
      "  File \"/Users/margheritamaroni/opt/anaconda3/lib/python3.9/site-packages/sklearn/model_selection/_validation.py\", line 687, in _score\n",
      "    scores = scorer(estimator, X_test, y_test)\n",
      "  File \"/Users/margheritamaroni/opt/anaconda3/lib/python3.9/site-packages/sklearn/metrics/_scorer.py\", line 199, in __call__\n",
      "    return self._score(partial(_cached_call, None), estimator, X, y_true,\n",
      "  File \"/Users/margheritamaroni/opt/anaconda3/lib/python3.9/site-packages/sklearn/metrics/_scorer.py\", line 242, in _score\n",
      "    return self._sign * self._score_func(y_true, y_pred,\n",
      "  File \"/Users/margheritamaroni/opt/anaconda3/lib/python3.9/site-packages/sklearn/utils/validation.py\", line 63, in inner_f\n",
      "    return f(*args, **kwargs)\n",
      "  File \"/Users/margheritamaroni/opt/anaconda3/lib/python3.9/site-packages/sklearn/metrics/_classification.py\", line 202, in accuracy_score\n",
      "    y_type, y_true, y_pred = _check_targets(y_true, y_pred)\n",
      "  File \"/Users/margheritamaroni/opt/anaconda3/lib/python3.9/site-packages/sklearn/metrics/_classification.py\", line 92, in _check_targets\n",
      "    raise ValueError(\"Classification metrics can't handle a mix of {0} \"\n",
      "ValueError: Classification metrics can't handle a mix of multilabel-indicator and binary targets\n",
      "\n",
      "  warnings.warn(\n",
      "/Users/margheritamaroni/opt/anaconda3/lib/python3.9/site-packages/sklearn/model_selection/_validation.py:696: UserWarning: Scoring failed. The score on this train-test partition for these parameters will be set to nan. Details: \n",
      "Traceback (most recent call last):\n",
      "  File \"/Users/margheritamaroni/opt/anaconda3/lib/python3.9/site-packages/sklearn/model_selection/_validation.py\", line 687, in _score\n",
      "    scores = scorer(estimator, X_test, y_test)\n",
      "  File \"/Users/margheritamaroni/opt/anaconda3/lib/python3.9/site-packages/sklearn/metrics/_scorer.py\", line 199, in __call__\n",
      "    return self._score(partial(_cached_call, None), estimator, X, y_true,\n",
      "  File \"/Users/margheritamaroni/opt/anaconda3/lib/python3.9/site-packages/sklearn/metrics/_scorer.py\", line 242, in _score\n",
      "    return self._sign * self._score_func(y_true, y_pred,\n",
      "  File \"/Users/margheritamaroni/opt/anaconda3/lib/python3.9/site-packages/sklearn/utils/validation.py\", line 63, in inner_f\n",
      "    return f(*args, **kwargs)\n",
      "  File \"/Users/margheritamaroni/opt/anaconda3/lib/python3.9/site-packages/sklearn/metrics/_classification.py\", line 202, in accuracy_score\n",
      "    y_type, y_true, y_pred = _check_targets(y_true, y_pred)\n",
      "  File \"/Users/margheritamaroni/opt/anaconda3/lib/python3.9/site-packages/sklearn/metrics/_classification.py\", line 92, in _check_targets\n",
      "    raise ValueError(\"Classification metrics can't handle a mix of {0} \"\n",
      "ValueError: Classification metrics can't handle a mix of multilabel-indicator and binary targets\n",
      "\n",
      "  warnings.warn(\n",
      "/Users/margheritamaroni/opt/anaconda3/lib/python3.9/site-packages/sklearn/model_selection/_validation.py:696: UserWarning: Scoring failed. The score on this train-test partition for these parameters will be set to nan. Details: \n",
      "Traceback (most recent call last):\n",
      "  File \"/Users/margheritamaroni/opt/anaconda3/lib/python3.9/site-packages/sklearn/model_selection/_validation.py\", line 687, in _score\n",
      "    scores = scorer(estimator, X_test, y_test)\n",
      "  File \"/Users/margheritamaroni/opt/anaconda3/lib/python3.9/site-packages/sklearn/metrics/_scorer.py\", line 199, in __call__\n",
      "    return self._score(partial(_cached_call, None), estimator, X, y_true,\n",
      "  File \"/Users/margheritamaroni/opt/anaconda3/lib/python3.9/site-packages/sklearn/metrics/_scorer.py\", line 242, in _score\n",
      "    return self._sign * self._score_func(y_true, y_pred,\n",
      "  File \"/Users/margheritamaroni/opt/anaconda3/lib/python3.9/site-packages/sklearn/utils/validation.py\", line 63, in inner_f\n",
      "    return f(*args, **kwargs)\n",
      "  File \"/Users/margheritamaroni/opt/anaconda3/lib/python3.9/site-packages/sklearn/metrics/_classification.py\", line 202, in accuracy_score\n",
      "    y_type, y_true, y_pred = _check_targets(y_true, y_pred)\n",
      "  File \"/Users/margheritamaroni/opt/anaconda3/lib/python3.9/site-packages/sklearn/metrics/_classification.py\", line 92, in _check_targets\n",
      "    raise ValueError(\"Classification metrics can't handle a mix of {0} \"\n",
      "ValueError: Classification metrics can't handle a mix of multilabel-indicator and binary targets\n",
      "\n",
      "  warnings.warn(\n",
      "/Users/margheritamaroni/opt/anaconda3/lib/python3.9/site-packages/sklearn/model_selection/_validation.py:696: UserWarning: Scoring failed. The score on this train-test partition for these parameters will be set to nan. Details: \n",
      "Traceback (most recent call last):\n",
      "  File \"/Users/margheritamaroni/opt/anaconda3/lib/python3.9/site-packages/sklearn/model_selection/_validation.py\", line 687, in _score\n",
      "    scores = scorer(estimator, X_test, y_test)\n",
      "  File \"/Users/margheritamaroni/opt/anaconda3/lib/python3.9/site-packages/sklearn/metrics/_scorer.py\", line 199, in __call__\n",
      "    return self._score(partial(_cached_call, None), estimator, X, y_true,\n",
      "  File \"/Users/margheritamaroni/opt/anaconda3/lib/python3.9/site-packages/sklearn/metrics/_scorer.py\", line 242, in _score\n",
      "    return self._sign * self._score_func(y_true, y_pred,\n",
      "  File \"/Users/margheritamaroni/opt/anaconda3/lib/python3.9/site-packages/sklearn/utils/validation.py\", line 63, in inner_f\n",
      "    return f(*args, **kwargs)\n",
      "  File \"/Users/margheritamaroni/opt/anaconda3/lib/python3.9/site-packages/sklearn/metrics/_classification.py\", line 202, in accuracy_score\n",
      "    y_type, y_true, y_pred = _check_targets(y_true, y_pred)\n",
      "  File \"/Users/margheritamaroni/opt/anaconda3/lib/python3.9/site-packages/sklearn/metrics/_classification.py\", line 92, in _check_targets\n",
      "    raise ValueError(\"Classification metrics can't handle a mix of {0} \"\n",
      "ValueError: Classification metrics can't handle a mix of multilabel-indicator and binary targets\n",
      "\n",
      "  warnings.warn(\n",
      "2022-03-21 09:38:20.384132: I tensorflow/core/platform/cpu_feature_guard.cc:151] This TensorFlow binary is optimized with oneAPI Deep Neural Network Library (oneDNN) to use the following CPU instructions in performance-critical operations:  AVX2 FMA\n",
      "To enable them in other operations, rebuild TensorFlow with the appropriate compiler flags.\n"
     ]
    }
   ],
   "source": [
    "param_grid = {\n",
    "              #'epochs':[5,10,15],\n",
    "              #'batch_size':[128]\n",
    "              #'epochs' :              [100,150,200],\n",
    "              #'batch_size' :          [32, 128],\n",
    "              'optimizer' :           ['Adam', 'Nadam'],\n",
    "              'dropout_rate' :        [0.2, 0.3],\n",
    "              'activation' :          ['relu', 'sigmoid']\n",
    "    \n",
    "             }\n",
    "\n",
    "model = KerasClassifier(build_fn = build_cnn, verbose=0)\n",
    "\n",
    "model = algorithm_pipeline(x_train, x_test, y_train, y_test, model, \n",
    "                                        param_grid, cv=3, scoring_fit='accuracy')\n"
   ]
  },
  {
   "cell_type": "code",
   "execution_count": 28,
   "id": "7aed85df",
   "metadata": {},
   "outputs": [
    {
     "name": "stdout",
     "output_type": "stream",
     "text": [
      "The parameters of the best model are: \n",
      "{'activation': 'relu', 'dropout_rate': 0.2, 'optimizer': 'Adam'}\n"
     ]
    }
   ],
   "source": [
    "print('The parameters of the best model are: ')\n",
    "print(model.best_params_)"
   ]
  },
  {
   "cell_type": "code",
   "execution_count": 29,
   "id": "1c8a31fd",
   "metadata": {},
   "outputs": [],
   "source": [
    "batch_size = 128\n",
    "epochs = 10\n",
    "num_classes = 2\n",
    "\n",
    "cnn_model_1 = Sequential()\n",
    "cnn_model_1.add(Conv2D(32, kernel_size=(3, 3),activation='relu',input_shape=(100,100,1)))\n",
    "cnn_model_1.add(MaxPooling2D((2, 2)))\n",
    "cnn_model_1.add(Conv2D(64, (3, 3), activation='relu'))\n",
    "cnn_model_1.add(MaxPooling2D(pool_size=(2, 2)))\n",
    "cnn_model_1.add(Flatten())\n",
    "cnn_model_1.add(Dropout(0.2))\n",
    "cnn_model_1.add(Dense(num_classes, activation='softmax'))"
   ]
  },
  {
   "cell_type": "code",
   "execution_count": 30,
   "id": "b6f691ec",
   "metadata": {},
   "outputs": [],
   "source": [
    "cnn_model_1.compile(loss=keras.losses.categorical_crossentropy, \n",
    "                  optimizer=\"adam\",metrics=['accuracy'])"
   ]
  },
  {
   "cell_type": "code",
   "execution_count": 31,
   "id": "acfaeddd",
   "metadata": {
    "scrolled": true
   },
   "outputs": [
    {
     "name": "stdout",
     "output_type": "stream",
     "text": [
      "Epoch 1/10\n",
      "5/5 [==============================] - 8s 1s/step - loss: 95.0499 - accuracy: 0.5079 - val_loss: 53.0942 - val_accuracy: 0.5000\n",
      "Epoch 2/10\n",
      "5/5 [==============================] - 6s 1s/step - loss: 32.1176 - accuracy: 0.5460 - val_loss: 0.5539 - val_accuracy: 0.9429\n",
      "Epoch 3/10\n",
      "5/5 [==============================] - 7s 1s/step - loss: 4.9767 - accuracy: 0.6556 - val_loss: 3.3027 - val_accuracy: 0.6429\n",
      "Epoch 4/10\n",
      "5/5 [==============================] - 6s 1s/step - loss: 0.7823 - accuracy: 0.8794 - val_loss: 0.1530 - val_accuracy: 0.9286\n",
      "Epoch 5/10\n",
      "5/5 [==============================] - 6s 1s/step - loss: 0.1257 - accuracy: 0.9524 - val_loss: 0.3233 - val_accuracy: 0.8857\n",
      "Epoch 6/10\n",
      "5/5 [==============================] - 5s 1s/step - loss: 0.2421 - accuracy: 0.9079 - val_loss: 0.3163 - val_accuracy: 0.8714\n",
      "Epoch 7/10\n",
      "5/5 [==============================] - 6s 1s/step - loss: 0.1708 - accuracy: 0.9206 - val_loss: 0.1314 - val_accuracy: 0.9286\n",
      "Epoch 8/10\n",
      "5/5 [==============================] - 8s 2s/step - loss: 0.0872 - accuracy: 0.9683 - val_loss: 0.0994 - val_accuracy: 0.9571\n",
      "Epoch 9/10\n",
      "5/5 [==============================] - 6s 1s/step - loss: 0.0922 - accuracy: 0.9651 - val_loss: 0.1196 - val_accuracy: 0.9571\n",
      "Epoch 10/10\n",
      "5/5 [==============================] - 7s 2s/step - loss: 0.0966 - accuracy: 0.9714 - val_loss: 0.0856 - val_accuracy: 0.9714\n"
     ]
    }
   ],
   "source": [
    "cnn_train = cnn_model_1.fit(x_train, y_train, batch_size=batch_size,\n",
    "                          epochs=epochs,validation_split=0.1)"
   ]
  },
  {
   "cell_type": "code",
   "execution_count": 32,
   "id": "e6ce5072",
   "metadata": {},
   "outputs": [
    {
     "name": "stdout",
     "output_type": "stream",
     "text": [
      "10/10 [==============================] - 1s 109ms/step - loss: 0.0895 - accuracy: 0.9733\n",
      "Test loss: 0.08949308097362518\n",
      "Test accuracy: 0.9733333587646484\n"
     ]
    }
   ],
   "source": [
    "score = cnn_model_1.evaluate(x_test, y_test)\n",
    "print(\"Test loss:\", score[0])\n",
    "print(\"Test accuracy:\", score[1])"
   ]
  },
  {
   "cell_type": "code",
   "execution_count": 33,
   "id": "c7e93572",
   "metadata": {},
   "outputs": [
    {
     "data": {
      "text/plain": [
       "300"
      ]
     },
     "execution_count": 33,
     "metadata": {},
     "output_type": "execute_result"
    }
   ],
   "source": [
    "predictions = cnn_model_1.predict(x_test)\n",
    "array_pred_cnn = np.argmax(predictions, axis =1)\n",
    "len(array_pred_cnn)"
   ]
  },
  {
   "cell_type": "code",
   "execution_count": 34,
   "id": "e3221715",
   "metadata": {},
   "outputs": [],
   "source": [
    "y_test = np.argmax(y_test, axis=1)"
   ]
  },
  {
   "cell_type": "code",
   "execution_count": 35,
   "id": "1031ea46",
   "metadata": {},
   "outputs": [
    {
     "data": {
      "text/plain": [
       "array([0, 1, 1, 0, 1, 1, 1, 1, 0, 1, 0, 0, 0, 1, 1, 0, 0, 1, 0, 1, 1, 1,\n",
       "       0, 1, 0, 1, 1, 1, 1, 0, 1, 0, 1, 0, 0, 0, 1, 0, 0, 0, 0, 1, 1, 0,\n",
       "       1, 1, 1, 1, 1, 1, 0, 0, 0, 0, 1, 1, 0, 1, 1, 1, 0, 1, 0, 0, 1, 0,\n",
       "       1, 1, 1, 1, 1, 1, 1, 0, 0, 0, 1, 1, 1, 1, 0, 1, 0, 0, 0, 1, 0, 1,\n",
       "       0, 0, 0, 0, 1, 0, 0, 1, 1, 1, 0, 1, 1, 0, 0, 0, 1, 1, 1, 0, 1, 1,\n",
       "       1, 0, 0, 0, 0, 1, 0, 1, 1, 0, 0, 1, 0, 1, 0, 1, 0, 0, 1, 0, 0, 1,\n",
       "       1, 1, 0, 0, 0, 0, 0, 0, 0, 1, 1, 0, 1, 1, 1, 1, 0, 0, 0, 0, 0, 0,\n",
       "       0, 0, 0, 0, 1, 0, 1, 1, 1, 1, 1, 0, 1, 0, 0, 0, 1, 0, 0, 1, 0, 1,\n",
       "       0, 0, 1, 0, 1, 1, 1, 1, 1, 1, 0, 0, 0, 1, 0, 0, 0, 0, 0, 0, 1, 1,\n",
       "       1, 0, 0, 0, 0, 1, 1, 0, 0, 1, 1, 1, 1, 0, 1, 1, 0, 1, 0, 0, 0, 0,\n",
       "       0, 0, 0, 1, 1, 0, 1, 0, 0, 0, 0, 0, 0, 1, 1, 1, 1, 1, 1, 1, 0, 0,\n",
       "       0, 0, 0, 1, 1, 0, 0, 1, 0, 1, 1, 1, 1, 1, 0, 0, 1, 0, 1, 1, 1, 0,\n",
       "       1, 1, 0, 1, 0, 0, 1, 1, 1, 0, 1, 0, 1, 0, 1, 0, 0, 1, 1, 1, 0, 0,\n",
       "       0, 0, 0, 1, 0, 1, 0, 1, 0, 0, 0, 0, 0, 0])"
      ]
     },
     "execution_count": 35,
     "metadata": {},
     "output_type": "execute_result"
    }
   ],
   "source": [
    "y_test"
   ]
  },
  {
   "cell_type": "code",
   "execution_count": 36,
   "id": "234b5498",
   "metadata": {},
   "outputs": [
    {
     "data": {
      "text/plain": [
       "[58, 76, 83, 104, 118, 131, 173, 267]"
      ]
     },
     "execution_count": 36,
     "metadata": {},
     "output_type": "execute_result"
    }
   ],
   "source": [
    "misclassified_cnn = []\n",
    "for num in range(len(y_test)):\n",
    "    if array_pred_cnn[num] != y_test[num]:\n",
    "        misclassified_cnn.append(num)\n",
    "misclassified_cnn"
   ]
  },
  {
   "cell_type": "code",
   "execution_count": 39,
   "id": "f38fd616",
   "metadata": {},
   "outputs": [
    {
     "data": {
      "text/plain": [
       "<matplotlib.image.AxesImage at 0x7f7f01c9cd90>"
      ]
     },
     "execution_count": 39,
     "metadata": {},
     "output_type": "execute_result"
    },
    {
     "data": {
      "image/png": "[encoded data removed]",
      "text/plain": [
       "<Figure size 432x288 with 1 Axes>"
      ]
     },
     "metadata": {
      "needs_background": "light"
     },
     "output_type": "display_data"
    }
   ],
   "source": [
    "plt.imshow(x_test[76])"
   ]
  },
  {
   "cell_type": "code",
   "execution_count": null,
   "id": "d3d888fe",
   "metadata": {},
   "outputs": [],
   "source": []
  }
 ],
 "metadata": {
  "kernelspec": {
   "display_name": "Python 3 (ipykernel)",
   "language": "python",
   "name": "python3"
  },
  "language_info": {
   "codemirror_mode": {
    "name": "ipython",
    "version": 3
   },
   "file_extension": ".py",
   "mimetype": "text/x-python",
   "name": "python",
   "nbconvert_exporter": "python",
   "pygments_lexer": "ipython3",
   "version": "3.9.7"
  }
 },
 "nbformat": 4,
 "nbformat_minor": 5
}
