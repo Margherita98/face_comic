{
 "cells": [
  {
   "cell_type": "markdown",
   "id": "26eb4aa9",
   "metadata": {},
   "source": [
    "# CNN with Model Selection\n"
   ]
  },
  {
   "cell_type": "code",
   "execution_count": null,
   "id": "8999ef24",
   "metadata": {},
   "outputs": [],
   "source": [
    "#!pip install pytest-warnings"
   ]
  },
  {
   "cell_type": "code",
   "execution_count": 1,
   "id": "9e663f85",
   "metadata": {},
   "outputs": [],
   "source": [
    "import warnings \n",
    "warnings.filterwarnings(\"ignore\")\n",
    "import numpy as np #array operations\n",
    "from tensorflow import keras\n",
    "from tensorflow.keras import layers\n",
    "import matplotlib.pyplot as plt #to show image\n",
    "import os #to iterate through directories and join paths\n",
    "import cv2 #image operations"
   ]
  },
  {
   "cell_type": "code",
   "execution_count": 2,
   "id": "bdcff68d",
   "metadata": {},
   "outputs": [],
   "source": [
    "#data directory\n",
    "directory = \"/Users/margheritamaroni/Desktop/DATA SCIENCE AND ECONOMICS/ALGORITHMS FOR MASSIVE DATA, CLOUD AND DISTRIBUTED COMPUTING/face_comic/face2comics_v2.0.0_by_Sxela/face2comics_v2.0.0_by_Sxela\"\n",
    "#the two categories we have to deal with \n",
    "subfolders = [\"comics\", \"faces\"]"
   ]
  },
  {
   "cell_type": "code",
   "execution_count": 3,
   "id": "1426dd01",
   "metadata": {},
   "outputs": [],
   "source": [
    "#which is the directory of the subsubfolder faces\n",
    "faces = os.path.join(directory, subfolders[1])"
   ]
  },
  {
   "cell_type": "code",
   "execution_count": 4,
   "id": "c8d9f2f1",
   "metadata": {},
   "outputs": [],
   "source": [
    "#directory of the subsubfolder comics\n",
    "comics = os.path.join(directory, subfolders[0])"
   ]
  },
  {
   "cell_type": "code",
   "execution_count": 5,
   "id": "432de515",
   "metadata": {},
   "outputs": [],
   "source": [
    "images = []"
   ]
  },
  {
   "cell_type": "code",
   "execution_count": 6,
   "id": "8b5e50d4",
   "metadata": {},
   "outputs": [],
   "source": [
    "#the for cycle just created above is insterted into a function that create the dataset \n",
    "def dataset():\n",
    "    for subsubfolders in subfolders: \n",
    "        path = os.path.join(directory, subsubfolders)\n",
    "        label_class = subfolders.index(subsubfolders)\n",
    "        for pic in os.listdir(path)[:5000]:\n",
    "            array_pic = cv2.imread(os.path.join(path, pic))\n",
    "            array_pic = cv2.resize(array_pic,(100, 100)) #make the image size 100*100\n",
    "            images.append([array_pic,label_class])\n",
    "    "
   ]
  },
  {
   "cell_type": "code",
   "execution_count": 7,
   "id": "3e77b0d8",
   "metadata": {},
   "outputs": [],
   "source": [
    "dataset()"
   ]
  },
  {
   "cell_type": "code",
   "execution_count": 12,
   "id": "b08163a5",
   "metadata": {},
   "outputs": [
    {
     "data": {
      "text/plain": [
       "(100, 100, 3)"
      ]
     },
     "execution_count": 12,
     "metadata": {},
     "output_type": "execute_result"
    }
   ],
   "source": [
    "images[0][0].shape"
   ]
  },
  {
   "cell_type": "code",
   "execution_count": 13,
   "id": "dcb32448",
   "metadata": {},
   "outputs": [],
   "source": [
    "# total number of images =  10,000\n",
    "#The first 5000 images of the list are comics, while the following 5000 are faces\n",
    "# I need to do a reshuffle because I need to divide my dataset in train and test\n",
    "import random\n",
    "shuffled_images = random.sample(images, 10000) "
   ]
  },
  {
   "cell_type": "code",
   "execution_count": 14,
   "id": "bcf4b990",
   "metadata": {},
   "outputs": [],
   "source": [
    "#From the 10'000 lists obtained, we saw that each list contains two values: matrix with pixels and label of the image\n",
    "#at this stage we want to separate those two lists: \n",
    "# - create one list named P with all the matrices containing pixels \n",
    "# - create a second list named L with all labels (0 or 1)\n",
    "#thereafter, P and L will be used for train and test sets\n",
    "P = [] #features set (pixels)\n",
    "L = [] #label set"
   ]
  },
  {
   "cell_type": "code",
   "execution_count": 15,
   "id": "296ce8d4",
   "metadata": {},
   "outputs": [],
   "source": [
    "for example in shuffled_images:\n",
    "    P.append(example[0])\n",
    "    L.append(example[1])"
   ]
  },
  {
   "cell_type": "code",
   "execution_count": 16,
   "id": "063de589",
   "metadata": {},
   "outputs": [
    {
     "data": {
      "text/plain": [
       "(100, 100, 3)"
      ]
     },
     "execution_count": 16,
     "metadata": {},
     "output_type": "execute_result"
    }
   ],
   "source": [
    "#check P are only matrices of pixels for the first image\n",
    "P[:1] #matrix with pixels\n",
    "P[1].shape"
   ]
  },
  {
   "cell_type": "code",
   "execution_count": 17,
   "id": "7cf667e8",
   "metadata": {},
   "outputs": [
    {
     "data": {
      "text/plain": [
       "10000"
      ]
     },
     "execution_count": 17,
     "metadata": {},
     "output_type": "execute_result"
    }
   ],
   "source": [
    "#check L are only labels for the first ten images\n",
    "L[:10] #labels\n",
    "len(L) "
   ]
  },
  {
   "cell_type": "markdown",
   "id": "160801d8",
   "metadata": {},
   "source": [
    "# NOW WE ARE READY FOR TRAIN AND TEST SPLIT AND FOR DEFINING THE MODEL"
   ]
  },
  {
   "cell_type": "code",
   "execution_count": 18,
   "id": "1ea54611",
   "metadata": {},
   "outputs": [],
   "source": [
    "from sklearn.model_selection import train_test_split"
   ]
  },
  {
   "cell_type": "code",
   "execution_count": 19,
   "id": "f34dc6aa",
   "metadata": {},
   "outputs": [],
   "source": [
    "#transform lists P and L in array \n",
    "P = np.array(P)\n",
    "L = np.array(L)"
   ]
  },
  {
   "cell_type": "code",
   "execution_count": 50,
   "id": "f96ce00c",
   "metadata": {},
   "outputs": [],
   "source": [
    "input_shape = (100,100,3) \n",
    "x_train, x_test, y_train, y_test = train_test_split(P, L, train_size = 0.7, random_state = 3456)"
   ]
  },
  {
   "cell_type": "code",
   "execution_count": 51,
   "id": "d64f6bf0",
   "metadata": {},
   "outputs": [
    {
     "data": {
      "text/plain": [
       "(7000, 100, 100, 3)"
      ]
     },
     "execution_count": 51,
     "metadata": {},
     "output_type": "execute_result"
    }
   ],
   "source": [
    "x_train.shape"
   ]
  },
  {
   "cell_type": "code",
   "execution_count": 22,
   "id": "c215228a",
   "metadata": {},
   "outputs": [],
   "source": [
    "#One Hot encoding \n",
    "from sklearn.preprocessing import OneHotEncoder"
   ]
  },
  {
   "cell_type": "code",
   "execution_count": 23,
   "id": "459e2916",
   "metadata": {},
   "outputs": [],
   "source": [
    "encoder = OneHotEncoder(sparse=False)"
   ]
  },
  {
   "cell_type": "code",
   "execution_count": 52,
   "id": "ff1470df",
   "metadata": {},
   "outputs": [],
   "source": [
    "y_train = encoder.fit_transform(y_train.reshape(-1,1))\n",
    "y_test=encoder.fit_transform(y_test.reshape(-1,1))"
   ]
  },
  {
   "cell_type": "code",
   "execution_count": 53,
   "id": "33853a1b",
   "metadata": {},
   "outputs": [],
   "source": [
    "x_train = np.expand_dims(x_train, -1)\n",
    "x_test = np.expand_dims(x_test, -1)"
   ]
  },
  {
   "cell_type": "code",
   "execution_count": 54,
   "id": "fd85acc1",
   "metadata": {},
   "outputs": [
    {
     "data": {
      "text/plain": [
       "(7000, 100, 100, 3, 1)"
      ]
     },
     "execution_count": 54,
     "metadata": {},
     "output_type": "execute_result"
    }
   ],
   "source": [
    "x_train.shape"
   ]
  },
  {
   "cell_type": "markdown",
   "id": "e84da7a4",
   "metadata": {},
   "source": [
    "# Model Selection\n"
   ]
  },
  {
   "cell_type": "markdown",
   "id": "0a09f421",
   "metadata": {},
   "source": [
    "I run the grid search with cross-validation. I am going to input different training and test split:\n",
    "\n",
    "x_train, x_test, y_train, y_test. "
   ]
  },
  {
   "cell_type": "markdown",
   "id": "7f3258ad",
   "metadata": {},
   "source": [
    "I will also input my *model* from the library sklearn using the function *gridsearchcv* from the class *model selection*. "
   ]
  },
  {
   "cell_type": "code",
   "execution_count": 27,
   "id": "67ff47f2",
   "metadata": {},
   "outputs": [],
   "source": [
    "#!pip install module-wrapper"
   ]
  },
  {
   "cell_type": "code",
   "execution_count": 28,
   "id": "0c401b45",
   "metadata": {},
   "outputs": [],
   "source": [
    "from sklearn.model_selection import GridSearchCV\n",
    "from keras.models import Sequential \n",
    "from keras.layers import Dense, Conv2D, Dropout, Flatten, MaxPooling2D\n",
    "from keras.wrappers.scikit_learn import KerasClassifier\n"
   ]
  },
  {
   "cell_type": "code",
   "execution_count": 29,
   "id": "972b3379",
   "metadata": {},
   "outputs": [],
   "source": [
    "def algorithm_pipeline(x_train, x_test, y_train, y_test, \n",
    "                       model, param_grid, cv=3, scoring_fit='accuracy',\n",
    "                       ):\n",
    "    gs = GridSearchCV(\n",
    "        estimator=model,\n",
    "        param_grid=param_grid, \n",
    "        cv=cv, \n",
    "        n_jobs=-1, \n",
    "        scoring=scoring_fit\n",
    "    )\n",
    "    fitted_model = gs.fit(x_train, y_train)\n",
    "    \n",
    "    return fitted_model"
   ]
  },
  {
   "cell_type": "code",
   "execution_count": 30,
   "id": "27004cb1",
   "metadata": {},
   "outputs": [],
   "source": [
    "def build_cnn(activation = 'relu',\n",
    "              dropout_rate = 0.2,\n",
    "              optimizer = 'Adam'):\n",
    "    model = Sequential()\n",
    "    \n",
    "    model.add(Conv2D(32, kernel_size=(3, 3),\n",
    "                     activation=activation,\n",
    "                    input_shape = (100,100,3)))\n",
    "    model.add(Conv2D(64, (3, 3), activation=activation))\n",
    "    model.add(MaxPooling2D(pool_size=(2, 2)))\n",
    "    model.add(Dropout(0.2))\n",
    "    model.add(Flatten())\n",
    "    model.add(Dense(2, activation='softmax'))\n",
    "    \n",
    "    model.compile(\n",
    "        loss='categorical_crossentropy', \n",
    "        optimizer=\"adam\", \n",
    "        metrics=['accuracy']\n",
    "    )\n",
    "    \n",
    "    return model"
   ]
  },
  {
   "cell_type": "code",
   "execution_count": 31,
   "id": "8ca262fc",
   "metadata": {},
   "outputs": [
    {
     "name": "stderr",
     "output_type": "stream",
     "text": [
      "2022-03-21 15:01:31.375746: I tensorflow/core/platform/cpu_feature_guard.cc:151] This TensorFlow binary is optimized with oneAPI Deep Neural Network Library (oneDNN) to use the following CPU instructions in performance-critical operations:  AVX2 FMA\n",
      "To enable them in other operations, rebuild TensorFlow with the appropriate compiler flags.\n",
      "2022-03-21 15:01:31.485081: I tensorflow/core/platform/cpu_feature_guard.cc:151] This TensorFlow binary is optimized with oneAPI Deep Neural Network Library (oneDNN) to use the following CPU instructions in performance-critical operations:  AVX2 FMA\n",
      "To enable them in other operations, rebuild TensorFlow with the appropriate compiler flags.\n",
      "2022-03-21 15:01:31.489697: I tensorflow/core/platform/cpu_feature_guard.cc:151] This TensorFlow binary is optimized with oneAPI Deep Neural Network Library (oneDNN) to use the following CPU instructions in performance-critical operations:  AVX2 FMA\n",
      "To enable them in other operations, rebuild TensorFlow with the appropriate compiler flags.\n",
      "2022-03-21 15:01:31.496050: I tensorflow/core/platform/cpu_feature_guard.cc:151] This TensorFlow binary is optimized with oneAPI Deep Neural Network Library (oneDNN) to use the following CPU instructions in performance-critical operations:  AVX2 FMA\n",
      "To enable them in other operations, rebuild TensorFlow with the appropriate compiler flags.\n",
      "/Users/margheritamaroni/opt/anaconda3/lib/python3.9/site-packages/sklearn/model_selection/_validation.py:696: UserWarning: Scoring failed. The score on this train-test partition for these parameters will be set to nan. Details: \n",
      "Traceback (most recent call last):\n",
      "  File \"/Users/margheritamaroni/opt/anaconda3/lib/python3.9/site-packages/sklearn/model_selection/_validation.py\", line 687, in _score\n",
      "    scores = scorer(estimator, X_test, y_test)\n",
      "  File \"/Users/margheritamaroni/opt/anaconda3/lib/python3.9/site-packages/sklearn/metrics/_scorer.py\", line 199, in __call__\n",
      "    return self._score(partial(_cached_call, None), estimator, X, y_true,\n",
      "  File \"/Users/margheritamaroni/opt/anaconda3/lib/python3.9/site-packages/sklearn/metrics/_scorer.py\", line 242, in _score\n",
      "    return self._sign * self._score_func(y_true, y_pred,\n",
      "  File \"/Users/margheritamaroni/opt/anaconda3/lib/python3.9/site-packages/sklearn/utils/validation.py\", line 63, in inner_f\n",
      "    return f(*args, **kwargs)\n",
      "  File \"/Users/margheritamaroni/opt/anaconda3/lib/python3.9/site-packages/sklearn/metrics/_classification.py\", line 202, in accuracy_score\n",
      "    y_type, y_true, y_pred = _check_targets(y_true, y_pred)\n",
      "  File \"/Users/margheritamaroni/opt/anaconda3/lib/python3.9/site-packages/sklearn/metrics/_classification.py\", line 92, in _check_targets\n",
      "    raise ValueError(\"Classification metrics can't handle a mix of {0} \"\n",
      "ValueError: Classification metrics can't handle a mix of multilabel-indicator and binary targets\n",
      "\n",
      "  warnings.warn(\n",
      "/Users/margheritamaroni/opt/anaconda3/lib/python3.9/site-packages/sklearn/model_selection/_validation.py:696: UserWarning: Scoring failed. The score on this train-test partition for these parameters will be set to nan. Details: \n",
      "Traceback (most recent call last):\n",
      "  File \"/Users/margheritamaroni/opt/anaconda3/lib/python3.9/site-packages/sklearn/model_selection/_validation.py\", line 687, in _score\n",
      "    scores = scorer(estimator, X_test, y_test)\n",
      "  File \"/Users/margheritamaroni/opt/anaconda3/lib/python3.9/site-packages/sklearn/metrics/_scorer.py\", line 199, in __call__\n",
      "    return self._score(partial(_cached_call, None), estimator, X, y_true,\n",
      "  File \"/Users/margheritamaroni/opt/anaconda3/lib/python3.9/site-packages/sklearn/metrics/_scorer.py\", line 242, in _score\n",
      "    return self._sign * self._score_func(y_true, y_pred,\n",
      "  File \"/Users/margheritamaroni/opt/anaconda3/lib/python3.9/site-packages/sklearn/utils/validation.py\", line 63, in inner_f\n",
      "    return f(*args, **kwargs)\n",
      "  File \"/Users/margheritamaroni/opt/anaconda3/lib/python3.9/site-packages/sklearn/metrics/_classification.py\", line 202, in accuracy_score\n",
      "    y_type, y_true, y_pred = _check_targets(y_true, y_pred)\n",
      "  File \"/Users/margheritamaroni/opt/anaconda3/lib/python3.9/site-packages/sklearn/metrics/_classification.py\", line 92, in _check_targets\n",
      "    raise ValueError(\"Classification metrics can't handle a mix of {0} \"\n",
      "ValueError: Classification metrics can't handle a mix of multilabel-indicator and binary targets\n",
      "\n",
      "  warnings.warn(\n",
      "/Users/margheritamaroni/opt/anaconda3/lib/python3.9/site-packages/sklearn/model_selection/_validation.py:696: UserWarning: Scoring failed. The score on this train-test partition for these parameters will be set to nan. Details: \n",
      "Traceback (most recent call last):\n",
      "  File \"/Users/margheritamaroni/opt/anaconda3/lib/python3.9/site-packages/sklearn/model_selection/_validation.py\", line 687, in _score\n",
      "    scores = scorer(estimator, X_test, y_test)\n",
      "  File \"/Users/margheritamaroni/opt/anaconda3/lib/python3.9/site-packages/sklearn/metrics/_scorer.py\", line 199, in __call__\n",
      "    return self._score(partial(_cached_call, None), estimator, X, y_true,\n",
      "  File \"/Users/margheritamaroni/opt/anaconda3/lib/python3.9/site-packages/sklearn/metrics/_scorer.py\", line 242, in _score\n",
      "    return self._sign * self._score_func(y_true, y_pred,\n",
      "  File \"/Users/margheritamaroni/opt/anaconda3/lib/python3.9/site-packages/sklearn/utils/validation.py\", line 63, in inner_f\n",
      "    return f(*args, **kwargs)\n",
      "  File \"/Users/margheritamaroni/opt/anaconda3/lib/python3.9/site-packages/sklearn/metrics/_classification.py\", line 202, in accuracy_score\n",
      "    y_type, y_true, y_pred = _check_targets(y_true, y_pred)\n",
      "  File \"/Users/margheritamaroni/opt/anaconda3/lib/python3.9/site-packages/sklearn/metrics/_classification.py\", line 92, in _check_targets\n",
      "    raise ValueError(\"Classification metrics can't handle a mix of {0} \"\n",
      "ValueError: Classification metrics can't handle a mix of multilabel-indicator and binary targets\n",
      "\n",
      "  warnings.warn(\n",
      "/Users/margheritamaroni/opt/anaconda3/lib/python3.9/site-packages/sklearn/model_selection/_validation.py:696: UserWarning: Scoring failed. The score on this train-test partition for these parameters will be set to nan. Details: \n",
      "Traceback (most recent call last):\n",
      "  File \"/Users/margheritamaroni/opt/anaconda3/lib/python3.9/site-packages/sklearn/model_selection/_validation.py\", line 687, in _score\n",
      "    scores = scorer(estimator, X_test, y_test)\n",
      "  File \"/Users/margheritamaroni/opt/anaconda3/lib/python3.9/site-packages/sklearn/metrics/_scorer.py\", line 199, in __call__\n",
      "    return self._score(partial(_cached_call, None), estimator, X, y_true,\n",
      "  File \"/Users/margheritamaroni/opt/anaconda3/lib/python3.9/site-packages/sklearn/metrics/_scorer.py\", line 242, in _score\n",
      "    return self._sign * self._score_func(y_true, y_pred,\n",
      "  File \"/Users/margheritamaroni/opt/anaconda3/lib/python3.9/site-packages/sklearn/utils/validation.py\", line 63, in inner_f\n",
      "    return f(*args, **kwargs)\n",
      "  File \"/Users/margheritamaroni/opt/anaconda3/lib/python3.9/site-packages/sklearn/metrics/_classification.py\", line 202, in accuracy_score\n",
      "    y_type, y_true, y_pred = _check_targets(y_true, y_pred)\n",
      "  File \"/Users/margheritamaroni/opt/anaconda3/lib/python3.9/site-packages/sklearn/metrics/_classification.py\", line 92, in _check_targets\n",
      "    raise ValueError(\"Classification metrics can't handle a mix of {0} \"\n",
      "ValueError: Classification metrics can't handle a mix of multilabel-indicator and binary targets\n",
      "\n",
      "  warnings.warn(\n",
      "/Users/margheritamaroni/opt/anaconda3/lib/python3.9/site-packages/sklearn/model_selection/_validation.py:696: UserWarning: Scoring failed. The score on this train-test partition for these parameters will be set to nan. Details: \n",
      "Traceback (most recent call last):\n",
      "  File \"/Users/margheritamaroni/opt/anaconda3/lib/python3.9/site-packages/sklearn/model_selection/_validation.py\", line 687, in _score\n",
      "    scores = scorer(estimator, X_test, y_test)\n",
      "  File \"/Users/margheritamaroni/opt/anaconda3/lib/python3.9/site-packages/sklearn/metrics/_scorer.py\", line 199, in __call__\n",
      "    return self._score(partial(_cached_call, None), estimator, X, y_true,\n",
      "  File \"/Users/margheritamaroni/opt/anaconda3/lib/python3.9/site-packages/sklearn/metrics/_scorer.py\", line 242, in _score\n",
      "    return self._sign * self._score_func(y_true, y_pred,\n",
      "  File \"/Users/margheritamaroni/opt/anaconda3/lib/python3.9/site-packages/sklearn/utils/validation.py\", line 63, in inner_f\n",
      "    return f(*args, **kwargs)\n",
      "  File \"/Users/margheritamaroni/opt/anaconda3/lib/python3.9/site-packages/sklearn/metrics/_classification.py\", line 202, in accuracy_score\n",
      "    y_type, y_true, y_pred = _check_targets(y_true, y_pred)\n",
      "  File \"/Users/margheritamaroni/opt/anaconda3/lib/python3.9/site-packages/sklearn/metrics/_classification.py\", line 92, in _check_targets\n",
      "    raise ValueError(\"Classification metrics can't handle a mix of {0} \"\n",
      "ValueError: Classification metrics can't handle a mix of multilabel-indicator and binary targets\n",
      "\n",
      "  warnings.warn(\n"
     ]
    },
    {
     "name": "stderr",
     "output_type": "stream",
     "text": [
      "/Users/margheritamaroni/opt/anaconda3/lib/python3.9/site-packages/sklearn/model_selection/_validation.py:696: UserWarning: Scoring failed. The score on this train-test partition for these parameters will be set to nan. Details: \n",
      "Traceback (most recent call last):\n",
      "  File \"/Users/margheritamaroni/opt/anaconda3/lib/python3.9/site-packages/sklearn/model_selection/_validation.py\", line 687, in _score\n",
      "    scores = scorer(estimator, X_test, y_test)\n",
      "  File \"/Users/margheritamaroni/opt/anaconda3/lib/python3.9/site-packages/sklearn/metrics/_scorer.py\", line 199, in __call__\n",
      "    return self._score(partial(_cached_call, None), estimator, X, y_true,\n",
      "  File \"/Users/margheritamaroni/opt/anaconda3/lib/python3.9/site-packages/sklearn/metrics/_scorer.py\", line 242, in _score\n",
      "    return self._sign * self._score_func(y_true, y_pred,\n",
      "  File \"/Users/margheritamaroni/opt/anaconda3/lib/python3.9/site-packages/sklearn/utils/validation.py\", line 63, in inner_f\n",
      "    return f(*args, **kwargs)\n",
      "  File \"/Users/margheritamaroni/opt/anaconda3/lib/python3.9/site-packages/sklearn/metrics/_classification.py\", line 202, in accuracy_score\n",
      "    y_type, y_true, y_pred = _check_targets(y_true, y_pred)\n",
      "  File \"/Users/margheritamaroni/opt/anaconda3/lib/python3.9/site-packages/sklearn/metrics/_classification.py\", line 92, in _check_targets\n",
      "    raise ValueError(\"Classification metrics can't handle a mix of {0} \"\n",
      "ValueError: Classification metrics can't handle a mix of multilabel-indicator and binary targets\n",
      "\n",
      "  warnings.warn(\n",
      "/Users/margheritamaroni/opt/anaconda3/lib/python3.9/site-packages/sklearn/model_selection/_validation.py:696: UserWarning: Scoring failed. The score on this train-test partition for these parameters will be set to nan. Details: \n",
      "Traceback (most recent call last):\n",
      "  File \"/Users/margheritamaroni/opt/anaconda3/lib/python3.9/site-packages/sklearn/model_selection/_validation.py\", line 687, in _score\n",
      "    scores = scorer(estimator, X_test, y_test)\n",
      "  File \"/Users/margheritamaroni/opt/anaconda3/lib/python3.9/site-packages/sklearn/metrics/_scorer.py\", line 199, in __call__\n",
      "    return self._score(partial(_cached_call, None), estimator, X, y_true,\n",
      "  File \"/Users/margheritamaroni/opt/anaconda3/lib/python3.9/site-packages/sklearn/metrics/_scorer.py\", line 242, in _score\n",
      "    return self._sign * self._score_func(y_true, y_pred,\n",
      "  File \"/Users/margheritamaroni/opt/anaconda3/lib/python3.9/site-packages/sklearn/utils/validation.py\", line 63, in inner_f\n",
      "    return f(*args, **kwargs)\n",
      "  File \"/Users/margheritamaroni/opt/anaconda3/lib/python3.9/site-packages/sklearn/metrics/_classification.py\", line 202, in accuracy_score\n",
      "    y_type, y_true, y_pred = _check_targets(y_true, y_pred)\n",
      "  File \"/Users/margheritamaroni/opt/anaconda3/lib/python3.9/site-packages/sklearn/metrics/_classification.py\", line 92, in _check_targets\n",
      "    raise ValueError(\"Classification metrics can't handle a mix of {0} \"\n",
      "ValueError: Classification metrics can't handle a mix of multilabel-indicator and binary targets\n",
      "\n",
      "  warnings.warn(\n",
      "/Users/margheritamaroni/opt/anaconda3/lib/python3.9/site-packages/sklearn/model_selection/_validation.py:696: UserWarning: Scoring failed. The score on this train-test partition for these parameters will be set to nan. Details: \n",
      "Traceback (most recent call last):\n",
      "  File \"/Users/margheritamaroni/opt/anaconda3/lib/python3.9/site-packages/sklearn/model_selection/_validation.py\", line 687, in _score\n",
      "    scores = scorer(estimator, X_test, y_test)\n",
      "  File \"/Users/margheritamaroni/opt/anaconda3/lib/python3.9/site-packages/sklearn/metrics/_scorer.py\", line 199, in __call__\n",
      "    return self._score(partial(_cached_call, None), estimator, X, y_true,\n",
      "  File \"/Users/margheritamaroni/opt/anaconda3/lib/python3.9/site-packages/sklearn/metrics/_scorer.py\", line 242, in _score\n",
      "    return self._sign * self._score_func(y_true, y_pred,\n",
      "  File \"/Users/margheritamaroni/opt/anaconda3/lib/python3.9/site-packages/sklearn/utils/validation.py\", line 63, in inner_f\n",
      "    return f(*args, **kwargs)\n",
      "  File \"/Users/margheritamaroni/opt/anaconda3/lib/python3.9/site-packages/sklearn/metrics/_classification.py\", line 202, in accuracy_score\n",
      "    y_type, y_true, y_pred = _check_targets(y_true, y_pred)\n",
      "  File \"/Users/margheritamaroni/opt/anaconda3/lib/python3.9/site-packages/sklearn/metrics/_classification.py\", line 92, in _check_targets\n",
      "    raise ValueError(\"Classification metrics can't handle a mix of {0} \"\n",
      "ValueError: Classification metrics can't handle a mix of multilabel-indicator and binary targets\n",
      "\n",
      "  warnings.warn(\n",
      "/Users/margheritamaroni/opt/anaconda3/lib/python3.9/site-packages/sklearn/model_selection/_validation.py:696: UserWarning: Scoring failed. The score on this train-test partition for these parameters will be set to nan. Details: \n",
      "Traceback (most recent call last):\n",
      "  File \"/Users/margheritamaroni/opt/anaconda3/lib/python3.9/site-packages/sklearn/model_selection/_validation.py\", line 687, in _score\n",
      "    scores = scorer(estimator, X_test, y_test)\n",
      "  File \"/Users/margheritamaroni/opt/anaconda3/lib/python3.9/site-packages/sklearn/metrics/_scorer.py\", line 199, in __call__\n",
      "    return self._score(partial(_cached_call, None), estimator, X, y_true,\n",
      "  File \"/Users/margheritamaroni/opt/anaconda3/lib/python3.9/site-packages/sklearn/metrics/_scorer.py\", line 242, in _score\n",
      "    return self._sign * self._score_func(y_true, y_pred,\n",
      "  File \"/Users/margheritamaroni/opt/anaconda3/lib/python3.9/site-packages/sklearn/utils/validation.py\", line 63, in inner_f\n",
      "    return f(*args, **kwargs)\n",
      "  File \"/Users/margheritamaroni/opt/anaconda3/lib/python3.9/site-packages/sklearn/metrics/_classification.py\", line 202, in accuracy_score\n",
      "    y_type, y_true, y_pred = _check_targets(y_true, y_pred)\n",
      "  File \"/Users/margheritamaroni/opt/anaconda3/lib/python3.9/site-packages/sklearn/metrics/_classification.py\", line 92, in _check_targets\n",
      "    raise ValueError(\"Classification metrics can't handle a mix of {0} \"\n",
      "ValueError: Classification metrics can't handle a mix of multilabel-indicator and binary targets\n",
      "\n",
      "  warnings.warn(\n",
      "/Users/margheritamaroni/opt/anaconda3/lib/python3.9/site-packages/sklearn/model_selection/_validation.py:696: UserWarning: Scoring failed. The score on this train-test partition for these parameters will be set to nan. Details: \n",
      "Traceback (most recent call last):\n",
      "  File \"/Users/margheritamaroni/opt/anaconda3/lib/python3.9/site-packages/sklearn/model_selection/_validation.py\", line 687, in _score\n",
      "    scores = scorer(estimator, X_test, y_test)\n",
      "  File \"/Users/margheritamaroni/opt/anaconda3/lib/python3.9/site-packages/sklearn/metrics/_scorer.py\", line 199, in __call__\n",
      "    return self._score(partial(_cached_call, None), estimator, X, y_true,\n",
      "  File \"/Users/margheritamaroni/opt/anaconda3/lib/python3.9/site-packages/sklearn/metrics/_scorer.py\", line 242, in _score\n",
      "    return self._sign * self._score_func(y_true, y_pred,\n",
      "  File \"/Users/margheritamaroni/opt/anaconda3/lib/python3.9/site-packages/sklearn/utils/validation.py\", line 63, in inner_f\n",
      "    return f(*args, **kwargs)\n",
      "  File \"/Users/margheritamaroni/opt/anaconda3/lib/python3.9/site-packages/sklearn/metrics/_classification.py\", line 202, in accuracy_score\n",
      "    y_type, y_true, y_pred = _check_targets(y_true, y_pred)\n",
      "  File \"/Users/margheritamaroni/opt/anaconda3/lib/python3.9/site-packages/sklearn/metrics/_classification.py\", line 92, in _check_targets\n",
      "    raise ValueError(\"Classification metrics can't handle a mix of {0} \"\n",
      "ValueError: Classification metrics can't handle a mix of multilabel-indicator and binary targets\n",
      "\n",
      "  warnings.warn(\n",
      "/Users/margheritamaroni/opt/anaconda3/lib/python3.9/site-packages/sklearn/model_selection/_validation.py:696: UserWarning: Scoring failed. The score on this train-test partition for these parameters will be set to nan. Details: \n",
      "Traceback (most recent call last):\n",
      "  File \"/Users/margheritamaroni/opt/anaconda3/lib/python3.9/site-packages/sklearn/model_selection/_validation.py\", line 687, in _score\n",
      "    scores = scorer(estimator, X_test, y_test)\n",
      "  File \"/Users/margheritamaroni/opt/anaconda3/lib/python3.9/site-packages/sklearn/metrics/_scorer.py\", line 199, in __call__\n",
      "    return self._score(partial(_cached_call, None), estimator, X, y_true,\n",
      "  File \"/Users/margheritamaroni/opt/anaconda3/lib/python3.9/site-packages/sklearn/metrics/_scorer.py\", line 242, in _score\n",
      "    return self._sign * self._score_func(y_true, y_pred,\n",
      "  File \"/Users/margheritamaroni/opt/anaconda3/lib/python3.9/site-packages/sklearn/utils/validation.py\", line 63, in inner_f\n",
      "    return f(*args, **kwargs)\n",
      "  File \"/Users/margheritamaroni/opt/anaconda3/lib/python3.9/site-packages/sklearn/metrics/_classification.py\", line 202, in accuracy_score\n",
      "    y_type, y_true, y_pred = _check_targets(y_true, y_pred)\n",
      "  File \"/Users/margheritamaroni/opt/anaconda3/lib/python3.9/site-packages/sklearn/metrics/_classification.py\", line 92, in _check_targets\n",
      "    raise ValueError(\"Classification metrics can't handle a mix of {0} \"\n",
      "ValueError: Classification metrics can't handle a mix of multilabel-indicator and binary targets\n",
      "\n",
      "  warnings.warn(\n",
      "/Users/margheritamaroni/opt/anaconda3/lib/python3.9/site-packages/sklearn/model_selection/_validation.py:696: UserWarning: Scoring failed. The score on this train-test partition for these parameters will be set to nan. Details: \n",
      "Traceback (most recent call last):\n",
      "  File \"/Users/margheritamaroni/opt/anaconda3/lib/python3.9/site-packages/sklearn/model_selection/_validation.py\", line 687, in _score\n",
      "    scores = scorer(estimator, X_test, y_test)\n",
      "  File \"/Users/margheritamaroni/opt/anaconda3/lib/python3.9/site-packages/sklearn/metrics/_scorer.py\", line 199, in __call__\n",
      "    return self._score(partial(_cached_call, None), estimator, X, y_true,\n",
      "  File \"/Users/margheritamaroni/opt/anaconda3/lib/python3.9/site-packages/sklearn/metrics/_scorer.py\", line 242, in _score\n",
      "    return self._sign * self._score_func(y_true, y_pred,\n",
      "  File \"/Users/margheritamaroni/opt/anaconda3/lib/python3.9/site-packages/sklearn/utils/validation.py\", line 63, in inner_f\n",
      "    return f(*args, **kwargs)\n",
      "  File \"/Users/margheritamaroni/opt/anaconda3/lib/python3.9/site-packages/sklearn/metrics/_classification.py\", line 202, in accuracy_score\n",
      "    y_type, y_true, y_pred = _check_targets(y_true, y_pred)\n",
      "  File \"/Users/margheritamaroni/opt/anaconda3/lib/python3.9/site-packages/sklearn/metrics/_classification.py\", line 92, in _check_targets\n",
      "    raise ValueError(\"Classification metrics can't handle a mix of {0} \"\n",
      "ValueError: Classification metrics can't handle a mix of multilabel-indicator and binary targets\n",
      "\n",
      "  warnings.warn(\n"
     ]
    },
    {
     "name": "stderr",
     "output_type": "stream",
     "text": [
      "/Users/margheritamaroni/opt/anaconda3/lib/python3.9/site-packages/sklearn/model_selection/_validation.py:696: UserWarning: Scoring failed. The score on this train-test partition for these parameters will be set to nan. Details: \n",
      "Traceback (most recent call last):\n",
      "  File \"/Users/margheritamaroni/opt/anaconda3/lib/python3.9/site-packages/sklearn/model_selection/_validation.py\", line 687, in _score\n",
      "    scores = scorer(estimator, X_test, y_test)\n",
      "  File \"/Users/margheritamaroni/opt/anaconda3/lib/python3.9/site-packages/sklearn/metrics/_scorer.py\", line 199, in __call__\n",
      "    return self._score(partial(_cached_call, None), estimator, X, y_true,\n",
      "  File \"/Users/margheritamaroni/opt/anaconda3/lib/python3.9/site-packages/sklearn/metrics/_scorer.py\", line 242, in _score\n",
      "    return self._sign * self._score_func(y_true, y_pred,\n",
      "  File \"/Users/margheritamaroni/opt/anaconda3/lib/python3.9/site-packages/sklearn/utils/validation.py\", line 63, in inner_f\n",
      "    return f(*args, **kwargs)\n",
      "  File \"/Users/margheritamaroni/opt/anaconda3/lib/python3.9/site-packages/sklearn/metrics/_classification.py\", line 202, in accuracy_score\n",
      "    y_type, y_true, y_pred = _check_targets(y_true, y_pred)\n",
      "  File \"/Users/margheritamaroni/opt/anaconda3/lib/python3.9/site-packages/sklearn/metrics/_classification.py\", line 92, in _check_targets\n",
      "    raise ValueError(\"Classification metrics can't handle a mix of {0} \"\n",
      "ValueError: Classification metrics can't handle a mix of multilabel-indicator and binary targets\n",
      "\n",
      "  warnings.warn(\n",
      "/Users/margheritamaroni/opt/anaconda3/lib/python3.9/site-packages/sklearn/model_selection/_validation.py:696: UserWarning: Scoring failed. The score on this train-test partition for these parameters will be set to nan. Details: \n",
      "Traceback (most recent call last):\n",
      "  File \"/Users/margheritamaroni/opt/anaconda3/lib/python3.9/site-packages/sklearn/model_selection/_validation.py\", line 687, in _score\n",
      "    scores = scorer(estimator, X_test, y_test)\n",
      "  File \"/Users/margheritamaroni/opt/anaconda3/lib/python3.9/site-packages/sklearn/metrics/_scorer.py\", line 199, in __call__\n",
      "    return self._score(partial(_cached_call, None), estimator, X, y_true,\n",
      "  File \"/Users/margheritamaroni/opt/anaconda3/lib/python3.9/site-packages/sklearn/metrics/_scorer.py\", line 242, in _score\n",
      "    return self._sign * self._score_func(y_true, y_pred,\n",
      "  File \"/Users/margheritamaroni/opt/anaconda3/lib/python3.9/site-packages/sklearn/utils/validation.py\", line 63, in inner_f\n",
      "    return f(*args, **kwargs)\n",
      "  File \"/Users/margheritamaroni/opt/anaconda3/lib/python3.9/site-packages/sklearn/metrics/_classification.py\", line 202, in accuracy_score\n",
      "    y_type, y_true, y_pred = _check_targets(y_true, y_pred)\n",
      "  File \"/Users/margheritamaroni/opt/anaconda3/lib/python3.9/site-packages/sklearn/metrics/_classification.py\", line 92, in _check_targets\n",
      "    raise ValueError(\"Classification metrics can't handle a mix of {0} \"\n",
      "ValueError: Classification metrics can't handle a mix of multilabel-indicator and binary targets\n",
      "\n",
      "  warnings.warn(\n",
      "/Users/margheritamaroni/opt/anaconda3/lib/python3.9/site-packages/sklearn/model_selection/_validation.py:696: UserWarning: Scoring failed. The score on this train-test partition for these parameters will be set to nan. Details: \n",
      "Traceback (most recent call last):\n",
      "  File \"/Users/margheritamaroni/opt/anaconda3/lib/python3.9/site-packages/sklearn/model_selection/_validation.py\", line 687, in _score\n",
      "    scores = scorer(estimator, X_test, y_test)\n",
      "  File \"/Users/margheritamaroni/opt/anaconda3/lib/python3.9/site-packages/sklearn/metrics/_scorer.py\", line 199, in __call__\n",
      "    return self._score(partial(_cached_call, None), estimator, X, y_true,\n",
      "  File \"/Users/margheritamaroni/opt/anaconda3/lib/python3.9/site-packages/sklearn/metrics/_scorer.py\", line 242, in _score\n",
      "    return self._sign * self._score_func(y_true, y_pred,\n",
      "  File \"/Users/margheritamaroni/opt/anaconda3/lib/python3.9/site-packages/sklearn/utils/validation.py\", line 63, in inner_f\n",
      "    return f(*args, **kwargs)\n",
      "  File \"/Users/margheritamaroni/opt/anaconda3/lib/python3.9/site-packages/sklearn/metrics/_classification.py\", line 202, in accuracy_score\n",
      "    y_type, y_true, y_pred = _check_targets(y_true, y_pred)\n",
      "  File \"/Users/margheritamaroni/opt/anaconda3/lib/python3.9/site-packages/sklearn/metrics/_classification.py\", line 92, in _check_targets\n",
      "    raise ValueError(\"Classification metrics can't handle a mix of {0} \"\n",
      "ValueError: Classification metrics can't handle a mix of multilabel-indicator and binary targets\n",
      "\n",
      "  warnings.warn(\n",
      "/Users/margheritamaroni/opt/anaconda3/lib/python3.9/site-packages/sklearn/model_selection/_validation.py:696: UserWarning: Scoring failed. The score on this train-test partition for these parameters will be set to nan. Details: \n",
      "Traceback (most recent call last):\n",
      "  File \"/Users/margheritamaroni/opt/anaconda3/lib/python3.9/site-packages/sklearn/model_selection/_validation.py\", line 687, in _score\n",
      "    scores = scorer(estimator, X_test, y_test)\n",
      "  File \"/Users/margheritamaroni/opt/anaconda3/lib/python3.9/site-packages/sklearn/metrics/_scorer.py\", line 199, in __call__\n",
      "    return self._score(partial(_cached_call, None), estimator, X, y_true,\n",
      "  File \"/Users/margheritamaroni/opt/anaconda3/lib/python3.9/site-packages/sklearn/metrics/_scorer.py\", line 242, in _score\n",
      "    return self._sign * self._score_func(y_true, y_pred,\n",
      "  File \"/Users/margheritamaroni/opt/anaconda3/lib/python3.9/site-packages/sklearn/utils/validation.py\", line 63, in inner_f\n",
      "    return f(*args, **kwargs)\n",
      "  File \"/Users/margheritamaroni/opt/anaconda3/lib/python3.9/site-packages/sklearn/metrics/_classification.py\", line 202, in accuracy_score\n",
      "    y_type, y_true, y_pred = _check_targets(y_true, y_pred)\n",
      "  File \"/Users/margheritamaroni/opt/anaconda3/lib/python3.9/site-packages/sklearn/metrics/_classification.py\", line 92, in _check_targets\n",
      "    raise ValueError(\"Classification metrics can't handle a mix of {0} \"\n",
      "ValueError: Classification metrics can't handle a mix of multilabel-indicator and binary targets\n",
      "\n",
      "  warnings.warn(\n",
      "/Users/margheritamaroni/opt/anaconda3/lib/python3.9/site-packages/sklearn/model_selection/_validation.py:696: UserWarning: Scoring failed. The score on this train-test partition for these parameters will be set to nan. Details: \n",
      "Traceback (most recent call last):\n",
      "  File \"/Users/margheritamaroni/opt/anaconda3/lib/python3.9/site-packages/sklearn/model_selection/_validation.py\", line 687, in _score\n",
      "    scores = scorer(estimator, X_test, y_test)\n",
      "  File \"/Users/margheritamaroni/opt/anaconda3/lib/python3.9/site-packages/sklearn/metrics/_scorer.py\", line 199, in __call__\n",
      "    return self._score(partial(_cached_call, None), estimator, X, y_true,\n",
      "  File \"/Users/margheritamaroni/opt/anaconda3/lib/python3.9/site-packages/sklearn/metrics/_scorer.py\", line 242, in _score\n",
      "    return self._sign * self._score_func(y_true, y_pred,\n",
      "  File \"/Users/margheritamaroni/opt/anaconda3/lib/python3.9/site-packages/sklearn/utils/validation.py\", line 63, in inner_f\n",
      "    return f(*args, **kwargs)\n",
      "  File \"/Users/margheritamaroni/opt/anaconda3/lib/python3.9/site-packages/sklearn/metrics/_classification.py\", line 202, in accuracy_score\n",
      "    y_type, y_true, y_pred = _check_targets(y_true, y_pred)\n",
      "  File \"/Users/margheritamaroni/opt/anaconda3/lib/python3.9/site-packages/sklearn/metrics/_classification.py\", line 92, in _check_targets\n",
      "    raise ValueError(\"Classification metrics can't handle a mix of {0} \"\n",
      "ValueError: Classification metrics can't handle a mix of multilabel-indicator and binary targets\n",
      "\n",
      "  warnings.warn(\n",
      "/Users/margheritamaroni/opt/anaconda3/lib/python3.9/site-packages/sklearn/model_selection/_validation.py:696: UserWarning: Scoring failed. The score on this train-test partition for these parameters will be set to nan. Details: \n",
      "Traceback (most recent call last):\n",
      "  File \"/Users/margheritamaroni/opt/anaconda3/lib/python3.9/site-packages/sklearn/model_selection/_validation.py\", line 687, in _score\n",
      "    scores = scorer(estimator, X_test, y_test)\n",
      "  File \"/Users/margheritamaroni/opt/anaconda3/lib/python3.9/site-packages/sklearn/metrics/_scorer.py\", line 199, in __call__\n",
      "    return self._score(partial(_cached_call, None), estimator, X, y_true,\n",
      "  File \"/Users/margheritamaroni/opt/anaconda3/lib/python3.9/site-packages/sklearn/metrics/_scorer.py\", line 242, in _score\n",
      "    return self._sign * self._score_func(y_true, y_pred,\n",
      "  File \"/Users/margheritamaroni/opt/anaconda3/lib/python3.9/site-packages/sklearn/utils/validation.py\", line 63, in inner_f\n",
      "    return f(*args, **kwargs)\n",
      "  File \"/Users/margheritamaroni/opt/anaconda3/lib/python3.9/site-packages/sklearn/metrics/_classification.py\", line 202, in accuracy_score\n",
      "    y_type, y_true, y_pred = _check_targets(y_true, y_pred)\n",
      "  File \"/Users/margheritamaroni/opt/anaconda3/lib/python3.9/site-packages/sklearn/metrics/_classification.py\", line 92, in _check_targets\n",
      "    raise ValueError(\"Classification metrics can't handle a mix of {0} \"\n",
      "ValueError: Classification metrics can't handle a mix of multilabel-indicator and binary targets\n",
      "\n",
      "  warnings.warn(\n"
     ]
    },
    {
     "name": "stderr",
     "output_type": "stream",
     "text": [
      "/Users/margheritamaroni/opt/anaconda3/lib/python3.9/site-packages/sklearn/model_selection/_validation.py:696: UserWarning: Scoring failed. The score on this train-test partition for these parameters will be set to nan. Details: \n",
      "Traceback (most recent call last):\n",
      "  File \"/Users/margheritamaroni/opt/anaconda3/lib/python3.9/site-packages/sklearn/model_selection/_validation.py\", line 687, in _score\n",
      "    scores = scorer(estimator, X_test, y_test)\n",
      "  File \"/Users/margheritamaroni/opt/anaconda3/lib/python3.9/site-packages/sklearn/metrics/_scorer.py\", line 199, in __call__\n",
      "    return self._score(partial(_cached_call, None), estimator, X, y_true,\n",
      "  File \"/Users/margheritamaroni/opt/anaconda3/lib/python3.9/site-packages/sklearn/metrics/_scorer.py\", line 242, in _score\n",
      "    return self._sign * self._score_func(y_true, y_pred,\n",
      "  File \"/Users/margheritamaroni/opt/anaconda3/lib/python3.9/site-packages/sklearn/utils/validation.py\", line 63, in inner_f\n",
      "    return f(*args, **kwargs)\n",
      "  File \"/Users/margheritamaroni/opt/anaconda3/lib/python3.9/site-packages/sklearn/metrics/_classification.py\", line 202, in accuracy_score\n",
      "    y_type, y_true, y_pred = _check_targets(y_true, y_pred)\n",
      "  File \"/Users/margheritamaroni/opt/anaconda3/lib/python3.9/site-packages/sklearn/metrics/_classification.py\", line 92, in _check_targets\n",
      "    raise ValueError(\"Classification metrics can't handle a mix of {0} \"\n",
      "ValueError: Classification metrics can't handle a mix of multilabel-indicator and binary targets\n",
      "\n",
      "  warnings.warn(\n",
      "/Users/margheritamaroni/opt/anaconda3/lib/python3.9/site-packages/sklearn/model_selection/_validation.py:696: UserWarning: Scoring failed. The score on this train-test partition for these parameters will be set to nan. Details: \n",
      "Traceback (most recent call last):\n",
      "  File \"/Users/margheritamaroni/opt/anaconda3/lib/python3.9/site-packages/sklearn/model_selection/_validation.py\", line 687, in _score\n",
      "    scores = scorer(estimator, X_test, y_test)\n",
      "  File \"/Users/margheritamaroni/opt/anaconda3/lib/python3.9/site-packages/sklearn/metrics/_scorer.py\", line 199, in __call__\n",
      "    return self._score(partial(_cached_call, None), estimator, X, y_true,\n",
      "  File \"/Users/margheritamaroni/opt/anaconda3/lib/python3.9/site-packages/sklearn/metrics/_scorer.py\", line 242, in _score\n",
      "    return self._sign * self._score_func(y_true, y_pred,\n",
      "  File \"/Users/margheritamaroni/opt/anaconda3/lib/python3.9/site-packages/sklearn/utils/validation.py\", line 63, in inner_f\n",
      "    return f(*args, **kwargs)\n",
      "  File \"/Users/margheritamaroni/opt/anaconda3/lib/python3.9/site-packages/sklearn/metrics/_classification.py\", line 202, in accuracy_score\n",
      "    y_type, y_true, y_pred = _check_targets(y_true, y_pred)\n",
      "  File \"/Users/margheritamaroni/opt/anaconda3/lib/python3.9/site-packages/sklearn/metrics/_classification.py\", line 92, in _check_targets\n",
      "    raise ValueError(\"Classification metrics can't handle a mix of {0} \"\n",
      "ValueError: Classification metrics can't handle a mix of multilabel-indicator and binary targets\n",
      "\n",
      "  warnings.warn(\n",
      "/Users/margheritamaroni/opt/anaconda3/lib/python3.9/site-packages/sklearn/model_selection/_validation.py:696: UserWarning: Scoring failed. The score on this train-test partition for these parameters will be set to nan. Details: \n",
      "Traceback (most recent call last):\n",
      "  File \"/Users/margheritamaroni/opt/anaconda3/lib/python3.9/site-packages/sklearn/model_selection/_validation.py\", line 687, in _score\n",
      "    scores = scorer(estimator, X_test, y_test)\n",
      "  File \"/Users/margheritamaroni/opt/anaconda3/lib/python3.9/site-packages/sklearn/metrics/_scorer.py\", line 199, in __call__\n",
      "    return self._score(partial(_cached_call, None), estimator, X, y_true,\n",
      "  File \"/Users/margheritamaroni/opt/anaconda3/lib/python3.9/site-packages/sklearn/metrics/_scorer.py\", line 242, in _score\n",
      "    return self._sign * self._score_func(y_true, y_pred,\n",
      "  File \"/Users/margheritamaroni/opt/anaconda3/lib/python3.9/site-packages/sklearn/utils/validation.py\", line 63, in inner_f\n",
      "    return f(*args, **kwargs)\n",
      "  File \"/Users/margheritamaroni/opt/anaconda3/lib/python3.9/site-packages/sklearn/metrics/_classification.py\", line 202, in accuracy_score\n",
      "    y_type, y_true, y_pred = _check_targets(y_true, y_pred)\n",
      "  File \"/Users/margheritamaroni/opt/anaconda3/lib/python3.9/site-packages/sklearn/metrics/_classification.py\", line 92, in _check_targets\n",
      "    raise ValueError(\"Classification metrics can't handle a mix of {0} \"\n",
      "ValueError: Classification metrics can't handle a mix of multilabel-indicator and binary targets\n",
      "\n",
      "  warnings.warn(\n",
      "/Users/margheritamaroni/opt/anaconda3/lib/python3.9/site-packages/sklearn/model_selection/_validation.py:696: UserWarning: Scoring failed. The score on this train-test partition for these parameters will be set to nan. Details: \n",
      "Traceback (most recent call last):\n",
      "  File \"/Users/margheritamaroni/opt/anaconda3/lib/python3.9/site-packages/sklearn/model_selection/_validation.py\", line 687, in _score\n",
      "    scores = scorer(estimator, X_test, y_test)\n",
      "  File \"/Users/margheritamaroni/opt/anaconda3/lib/python3.9/site-packages/sklearn/metrics/_scorer.py\", line 199, in __call__\n",
      "    return self._score(partial(_cached_call, None), estimator, X, y_true,\n",
      "  File \"/Users/margheritamaroni/opt/anaconda3/lib/python3.9/site-packages/sklearn/metrics/_scorer.py\", line 242, in _score\n",
      "    return self._sign * self._score_func(y_true, y_pred,\n",
      "  File \"/Users/margheritamaroni/opt/anaconda3/lib/python3.9/site-packages/sklearn/utils/validation.py\", line 63, in inner_f\n",
      "    return f(*args, **kwargs)\n",
      "  File \"/Users/margheritamaroni/opt/anaconda3/lib/python3.9/site-packages/sklearn/metrics/_classification.py\", line 202, in accuracy_score\n",
      "    y_type, y_true, y_pred = _check_targets(y_true, y_pred)\n",
      "  File \"/Users/margheritamaroni/opt/anaconda3/lib/python3.9/site-packages/sklearn/metrics/_classification.py\", line 92, in _check_targets\n",
      "    raise ValueError(\"Classification metrics can't handle a mix of {0} \"\n",
      "ValueError: Classification metrics can't handle a mix of multilabel-indicator and binary targets\n",
      "\n",
      "  warnings.warn(\n",
      "/Users/margheritamaroni/opt/anaconda3/lib/python3.9/site-packages/sklearn/model_selection/_validation.py:696: UserWarning: Scoring failed. The score on this train-test partition for these parameters will be set to nan. Details: \n",
      "Traceback (most recent call last):\n",
      "  File \"/Users/margheritamaroni/opt/anaconda3/lib/python3.9/site-packages/sklearn/model_selection/_validation.py\", line 687, in _score\n",
      "    scores = scorer(estimator, X_test, y_test)\n",
      "  File \"/Users/margheritamaroni/opt/anaconda3/lib/python3.9/site-packages/sklearn/metrics/_scorer.py\", line 199, in __call__\n",
      "    return self._score(partial(_cached_call, None), estimator, X, y_true,\n",
      "  File \"/Users/margheritamaroni/opt/anaconda3/lib/python3.9/site-packages/sklearn/metrics/_scorer.py\", line 242, in _score\n",
      "    return self._sign * self._score_func(y_true, y_pred,\n",
      "  File \"/Users/margheritamaroni/opt/anaconda3/lib/python3.9/site-packages/sklearn/utils/validation.py\", line 63, in inner_f\n",
      "    return f(*args, **kwargs)\n",
      "  File \"/Users/margheritamaroni/opt/anaconda3/lib/python3.9/site-packages/sklearn/metrics/_classification.py\", line 202, in accuracy_score\n",
      "    y_type, y_true, y_pred = _check_targets(y_true, y_pred)\n",
      "  File \"/Users/margheritamaroni/opt/anaconda3/lib/python3.9/site-packages/sklearn/metrics/_classification.py\", line 92, in _check_targets\n",
      "    raise ValueError(\"Classification metrics can't handle a mix of {0} \"\n",
      "ValueError: Classification metrics can't handle a mix of multilabel-indicator and binary targets\n",
      "\n",
      "  warnings.warn(\n",
      "/Users/margheritamaroni/opt/anaconda3/lib/python3.9/site-packages/sklearn/model_selection/_validation.py:696: UserWarning: Scoring failed. The score on this train-test partition for these parameters will be set to nan. Details: \n",
      "Traceback (most recent call last):\n",
      "  File \"/Users/margheritamaroni/opt/anaconda3/lib/python3.9/site-packages/sklearn/model_selection/_validation.py\", line 687, in _score\n",
      "    scores = scorer(estimator, X_test, y_test)\n",
      "  File \"/Users/margheritamaroni/opt/anaconda3/lib/python3.9/site-packages/sklearn/metrics/_scorer.py\", line 199, in __call__\n",
      "    return self._score(partial(_cached_call, None), estimator, X, y_true,\n",
      "  File \"/Users/margheritamaroni/opt/anaconda3/lib/python3.9/site-packages/sklearn/metrics/_scorer.py\", line 242, in _score\n",
      "    return self._sign * self._score_func(y_true, y_pred,\n",
      "  File \"/Users/margheritamaroni/opt/anaconda3/lib/python3.9/site-packages/sklearn/utils/validation.py\", line 63, in inner_f\n",
      "    return f(*args, **kwargs)\n",
      "  File \"/Users/margheritamaroni/opt/anaconda3/lib/python3.9/site-packages/sklearn/metrics/_classification.py\", line 202, in accuracy_score\n",
      "    y_type, y_true, y_pred = _check_targets(y_true, y_pred)\n",
      "  File \"/Users/margheritamaroni/opt/anaconda3/lib/python3.9/site-packages/sklearn/metrics/_classification.py\", line 92, in _check_targets\n",
      "    raise ValueError(\"Classification metrics can't handle a mix of {0} \"\n",
      "ValueError: Classification metrics can't handle a mix of multilabel-indicator and binary targets\n",
      "\n",
      "  warnings.warn(\n"
     ]
    },
    {
     "name": "stderr",
     "output_type": "stream",
     "text": [
      "2022-03-21 15:58:20.617576: I tensorflow/core/platform/cpu_feature_guard.cc:151] This TensorFlow binary is optimized with oneAPI Deep Neural Network Library (oneDNN) to use the following CPU instructions in performance-critical operations:  AVX2 FMA\n",
      "To enable them in other operations, rebuild TensorFlow with the appropriate compiler flags.\n"
     ]
    }
   ],
   "source": [
    "param_grid = {\n",
    "              'optimizer' :           ['Adam', 'Nadam'],\n",
    "              'dropout_rate' :        [0.2, 0.3],\n",
    "              'activation' :          ['relu', 'sigmoid']\n",
    "    \n",
    "             }\n",
    "\n",
    "model = KerasClassifier(build_fn = build_cnn, verbose=0)\n",
    "\n",
    "model = algorithm_pipeline(x_train, x_test, y_train, y_test, model, \n",
    "                           param_grid, cv=3, scoring_fit='accuracy')\n"
   ]
  },
  {
   "cell_type": "code",
   "execution_count": 32,
   "id": "7aed85df",
   "metadata": {},
   "outputs": [
    {
     "name": "stdout",
     "output_type": "stream",
     "text": [
      "The parameters of the best model are: \n",
      "{'activation': 'relu', 'dropout_rate': 0.2, 'optimizer': 'Adam'}\n"
     ]
    }
   ],
   "source": [
    "print('The parameters of the best model are: ')\n",
    "print(model.best_params_)"
   ]
  },
  {
   "cell_type": "code",
   "execution_count": 33,
   "id": "1c8a31fd",
   "metadata": {},
   "outputs": [],
   "source": [
    "batch_size = 128\n",
    "epochs = 10\n",
    "num_classes = 2\n",
    "\n",
    "cnn_model_1 = Sequential()\n",
    "cnn_model_1.add(Conv2D(32, kernel_size=(3, 3),activation='relu',input_shape=(100,100,3)))\n",
    "cnn_model_1.add(MaxPooling2D((2, 2)))\n",
    "cnn_model_1.add(Conv2D(64, (3, 3), activation='relu'))\n",
    "cnn_model_1.add(MaxPooling2D(pool_size=(2, 2)))\n",
    "cnn_model_1.add(Flatten())\n",
    "cnn_model_1.add(Dropout(0.2))\n",
    "cnn_model_1.add(Dense(num_classes, activation='softmax'))"
   ]
  },
  {
   "cell_type": "code",
   "execution_count": 34,
   "id": "b6f691ec",
   "metadata": {},
   "outputs": [],
   "source": [
    "cnn_model_1.compile(loss=keras.losses.categorical_crossentropy, \n",
    "                  optimizer=\"adam\",metrics=['accuracy'])"
   ]
  },
  {
   "cell_type": "code",
   "execution_count": 35,
   "id": "acfaeddd",
   "metadata": {
    "scrolled": true
   },
   "outputs": [
    {
     "name": "stdout",
     "output_type": "stream",
     "text": [
      "Epoch 1/10\n",
      "50/50 [==============================] - 57s 1s/step - loss: 14.0823 - accuracy: 0.8751 - val_loss: 0.0670 - val_accuracy: 0.9871\n",
      "Epoch 2/10\n",
      "50/50 [==============================] - 63s 1s/step - loss: 0.0323 - accuracy: 0.9927 - val_loss: 0.0199 - val_accuracy: 0.9929\n",
      "Epoch 3/10\n",
      "50/50 [==============================] - 70s 1s/step - loss: 0.0064 - accuracy: 0.9984 - val_loss: 0.0410 - val_accuracy: 0.9943\n",
      "Epoch 4/10\n",
      "50/50 [==============================] - 69s 1s/step - loss: 0.0064 - accuracy: 0.9986 - val_loss: 0.0068 - val_accuracy: 0.9971\n",
      "Epoch 5/10\n",
      "50/50 [==============================] - 67s 1s/step - loss: 5.7171e-04 - accuracy: 0.9998 - val_loss: 0.0083 - val_accuracy: 0.9971\n",
      "Epoch 6/10\n",
      "50/50 [==============================] - 68s 1s/step - loss: 4.8833e-04 - accuracy: 0.9998 - val_loss: 0.0140 - val_accuracy: 0.9971\n",
      "Epoch 7/10\n",
      "50/50 [==============================] - 65s 1s/step - loss: 1.8667e-04 - accuracy: 1.0000 - val_loss: 0.0062 - val_accuracy: 0.9986\n",
      "Epoch 8/10\n",
      "50/50 [==============================] - 68s 1s/step - loss: 0.0014 - accuracy: 0.9997 - val_loss: 0.0100 - val_accuracy: 0.9971\n",
      "Epoch 9/10\n",
      "50/50 [==============================] - 65s 1s/step - loss: 3.1007e-04 - accuracy: 0.9998 - val_loss: 0.0191 - val_accuracy: 0.9957\n",
      "Epoch 10/10\n",
      "50/50 [==============================] - 67s 1s/step - loss: 2.1547e-04 - accuracy: 0.9998 - val_loss: 0.0035 - val_accuracy: 0.9986\n"
     ]
    }
   ],
   "source": [
    "cnn_train = cnn_model_1.fit(x_train, y_train, batch_size=batch_size,\n",
    "                          epochs=epochs,validation_split=0.1)"
   ]
  },
  {
   "cell_type": "code",
   "execution_count": 36,
   "id": "e6ce5072",
   "metadata": {},
   "outputs": [
    {
     "name": "stdout",
     "output_type": "stream",
     "text": [
      "94/94 [==============================] - 6s 64ms/step - loss: 0.0112 - accuracy: 0.9970\n",
      "Test loss: 0.011187695898115635\n",
      "Test accuracy: 0.996999979019165\n"
     ]
    }
   ],
   "source": [
    "score = cnn_model_1.evaluate(x_test, y_test)\n",
    "print(\"Test loss:\", score[0])\n",
    "print(\"Test accuracy:\", score[1])"
   ]
  },
  {
   "cell_type": "code",
   "execution_count": 55,
   "id": "c7e93572",
   "metadata": {},
   "outputs": [
    {
     "data": {
      "text/plain": [
       "3000"
      ]
     },
     "execution_count": 55,
     "metadata": {},
     "output_type": "execute_result"
    }
   ],
   "source": [
    "predictions = cnn_model_1.predict(x_test)\n",
    "array_pred_cnn = np.argmax(predictions, axis =1)\n",
    "len(array_pred_cnn)"
   ]
  },
  {
   "cell_type": "code",
   "execution_count": 56,
   "id": "e3221715",
   "metadata": {},
   "outputs": [],
   "source": [
    "y_test = np.argmax(y_test, axis=1)"
   ]
  },
  {
   "cell_type": "code",
   "execution_count": 57,
   "id": "1031ea46",
   "metadata": {},
   "outputs": [
    {
     "data": {
      "text/plain": [
       "array([1, 1, 1, ..., 0, 1, 1])"
      ]
     },
     "execution_count": 57,
     "metadata": {},
     "output_type": "execute_result"
    }
   ],
   "source": [
    "y_test"
   ]
  },
  {
   "cell_type": "code",
   "execution_count": 58,
   "id": "234b5498",
   "metadata": {},
   "outputs": [
    {
     "data": {
      "text/plain": [
       "[188, 283, 344, 484, 709, 1311, 1629, 1956, 2314]"
      ]
     },
     "execution_count": 58,
     "metadata": {},
     "output_type": "execute_result"
    }
   ],
   "source": [
    "misclassified_cnn = []\n",
    "for num in range(len(y_test)):\n",
    "    if array_pred_cnn[num] != y_test[num]:\n",
    "        misclassified_cnn.append(num)\n",
    "misclassified_cnn"
   ]
  },
  {
   "cell_type": "code",
   "execution_count": 77,
   "id": "af5735a3",
   "metadata": {},
   "outputs": [
    {
     "data": {
      "text/plain": [
       "<matplotlib.image.AxesImage at 0x7fda5a0258b0>"
      ]
     },
     "execution_count": 77,
     "metadata": {},
     "output_type": "execute_result"
    },
    {
     "data": {
      "image/png": "[encoded data removed]",
      "text/plain": [
       "<Figure size 432x288 with 1 Axes>"
      ]
     },
     "metadata": {
      "needs_background": "light"
     },
     "output_type": "display_data"
    }
   ],
   "source": [
    "plt.imshow(x_test[misclassified_cnn[1]].reshape((100,100,3)))"
   ]
  },
  {
   "cell_type": "markdown",
   "id": "009f2982",
   "metadata": {},
   "source": [
    "## "
   ]
  },
  {
   "cell_type": "code",
   "execution_count": null,
   "id": "3236527e",
   "metadata": {},
   "outputs": [],
   "source": []
  }
 ],
 "metadata": {
  "kernelspec": {
   "display_name": "Python 3 (ipykernel)",
   "language": "python",
   "name": "python3"
  },
  "language_info": {
   "codemirror_mode": {
    "name": "ipython",
    "version": 3
   },
   "file_extension": ".py",
   "mimetype": "text/x-python",
   "name": "python",
   "nbconvert_exporter": "python",
   "pygments_lexer": "ipython3",
   "version": "3.9.7"
  }
 },
 "nbformat": 4,
 "nbformat_minor": 5
}
